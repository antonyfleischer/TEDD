{
 "cells": [
  {
   "cell_type": "code",
   "execution_count": 20,
   "metadata": {},
   "outputs": [],
   "source": [
    "import gym\n",
    "from gym import wrappers, logger\n",
    "\n",
    "class MoleculeAgent:\n",
    "    \"\"\"\n",
    "    The MoleculeAgent class. It has instance variables:\n",
    "    self.action_space \n",
    "    \"\"\"\n",
    "    def __init__(self, action_space):\n",
    "        \"\"\"\n",
    "        The __init__ method.\n",
    "        @parameters self: Molecule Agent action_space: Discrete(4,)\n",
    "        @returns void\n",
    "        \"\"\"\n",
    "        \n",
    "        self.action_space = action_space\n",
    "  \n",
    "    def act(self, observation, reward, done):\n",
    "        \"\"\"\n",
    "        The act method.\n",
    "        @parameters self: MoleculeAgent, observation: np.array, reward: int, done: boolean\n",
    "        @returns action: int\n",
    "        \n",
    "        For the prototyping of the simulation environment, the act method returns a random action. \n",
    "        \"\"\"\n",
    "        # Determine random action. Post-prototype, the RL learning algorithm would be here. \n",
    "        \n",
    "        # The RLPolicy method calls.\n",
    "        self.RLPolicy()\n",
    "        \n",
    "        return self.action_space.sample()\n",
    "    \n",
    "    \n",
    "    def RLPolicy(self):\n",
    "        print(\"RL Policy implemented.\")\n"
   ]
  }
 ],
 "metadata": {
  "kernelspec": {
   "display_name": "Python 3",
   "language": "python",
   "name": "python3"
  },
  "language_info": {
   "codemirror_mode": {
    "name": "ipython",
    "version": 3
   },
   "file_extension": ".py",
   "mimetype": "text/x-python",
   "name": "python",
   "nbconvert_exporter": "python",
   "pygments_lexer": "ipython3",
   "version": "3.7.3"
  }
 },
 "nbformat": 4,
 "nbformat_minor": 4
}
