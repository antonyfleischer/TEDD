{
 "cells": [
  {
   "cell_type": "code",
   "execution_count": null,
   "metadata": {},
   "outputs": [],
   "source": [
    "import gym\n",
    "from gym import wrappers, logger\n",
    "\n",
    "class MoleculeAgent(object)\n",
    "{\n",
    "    def _init_(self, action_space):\n",
    "        self.action_space = action_space\n",
    "    \n",
    "      def act(self, observation, reward, done):\n",
    "        #determine simply policy\n",
    "        return self.action_space.sample()\n",
    "\n",
    "if __name__ == '__main__':\n",
    "    \n",
    "    env = gym.make(\"gym_molecule:molecule-v0\")\n",
    "    \n",
    "    agent = MoleculeAgent(env.action_space)\n",
    "\n",
    "    episode_count = 100\n",
    "    reward = 0\n",
    "    done = False\n",
    "\n",
    "    for i in range(episode_count):\n",
    "        ob = env.reset()\n",
    "        while True:\n",
    "            action = agent.act(ob, reward, done)\n",
    "            ob, reward, done, _ = env.step(action)\n",
    "            env.render()\n",
    "            if done:\n",
    "                break\n",
    "            \n",
    "    env.close()\n",
    "    \n",
    "}"
   ]
  }
 ],
 "metadata": {
  "kernelspec": {
   "display_name": "Python 3",
   "language": "python",
   "name": "python3"
  },
  "language_info": {
   "codemirror_mode": {
    "name": "ipython",
    "version": 3
   },
   "file_extension": ".py",
   "mimetype": "text/x-python",
   "name": "python",
   "nbconvert_exporter": "python",
   "pygments_lexer": "ipython3",
   "version": "3.8.3"
  }
 },
 "nbformat": 4,
 "nbformat_minor": 4
}
