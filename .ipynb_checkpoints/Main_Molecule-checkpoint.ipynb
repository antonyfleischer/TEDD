{
 "cells": [
  {
   "cell_type": "markdown",
   "metadata": {},
   "source": [
    "# Main class for running the molecule environment"
   ]
  },
  {
   "cell_type": "code",
   "execution_count": 1,
   "metadata": {},
   "outputs": [],
   "source": [
    "import gym\n",
    "from gym import wrappers, logger\n",
    "from MoleculeAgent import MoleculeAgent"
   ]
  },
  {
   "cell_type": "code",
   "execution_count": null,
   "metadata": {},
   "outputs": [
    {
     "name": "stdin",
     "output_type": "stream",
     "text": [
      "Enter The Optimisation goal: \n",
      " eg 'FC(F)(Cl)C(F)(Cl)Cl' 1\n"
     ]
    },
    {
     "name": "stdout",
     "output_type": "stream",
     "text": [
      "EPISODE: 0\n"
     ]
    },
    {
     "name": "stdin",
     "output_type": "stream",
     "text": [
      "Enter The Optimisation goal: \n",
      " eg 'FC(F)(Cl)C(F)(Cl)Cl' 1\n"
     ]
    },
    {
     "name": "stdout",
     "output_type": "stream",
     "text": [
      "Env original state:  None\n",
      "\n",
      "Agent's chosen action:  1\n",
      "['C']\n",
      "calculating Reward\n",
      "Env new state: 14.2857 Reward to agent: 1 Done: False Info:  {}\n",
      "\n",
      "Agent's chosen action:  5\n",
      "add ring\n",
      "['C', 'ring']\n",
      "calculating Reward\n",
      "Env new state: 14.2857 Reward to agent: 1 Done: False Info:  {}\n",
      "\n",
      "Agent's chosen action:  5\n",
      "add ring\n",
      "['C', 'ring', 'ring']\n",
      "calculating Reward\n",
      "Env new state: 14.2857 Reward to agent: 1 Done: False Info:  {}\n",
      "\n",
      "Agent's chosen action:  2\n",
      "['C', 'ring', 'ring', 'C']\n",
      "calculating Reward\n",
      "Env new state: 28.5714 Reward to agent: 1 Done: False Info:  {}\n",
      "\n",
      "Agent's chosen action:  1\n",
      "['C', 'ring', 'ring', 'C', 'C']\n",
      "calculating Reward\n",
      "Env new state: 25.0 Reward to agent: 1 Done: False Info:  {}\n",
      "\n",
      "Agent's chosen action:  4\n",
      "add bracketed atom\n",
      "['C', 'ring', 'ring', 'C', 'C', 'bracketed atom']\n",
      "calculating Reward\n",
      "Env new state: 28.5714 Reward to agent: 1 Done: False Info:  {}\n",
      "\n",
      "Agent's chosen action:  2\n",
      "['C', 'ring', 'ring', 'C', 'C', 'bracketed atom', '=C']\n",
      "calculating Reward\n",
      "Env new state: 71.4286 Reward to agent: 1 Done: False Info:  {}\n",
      "\n",
      "Agent's chosen action:  4\n",
      "add bracketed atom\n",
      "['C', 'ring', 'ring', 'C', 'C', 'bracketed atom', '=C', 'bracketed atom']\n",
      "calculating Reward\n",
      "Env new state: 71.4286 Reward to agent: 1 Done: False Info:  {}\n",
      "\n",
      "Agent's chosen action:  2\n",
      "['C', 'ring', 'ring', 'C', 'C', 'bracketed atom', '=C', 'bracketed atom', 'C']\n",
      "Env new state: 100.0 Reward to agent: 0 Done: True Info:  {}\n",
      "\n",
      "Agent's chosen action:  0\n",
      "['C', 'ring', 'ring', 'C', 'C', 'bracketed atom', '=C', 'bracketed atom', 'C', 'C']\n",
      "Env new state: 87.5 Reward to agent: 0 Done: True Info:  {}\n",
      "\n",
      "Agent's chosen action:  0\n",
      "['C', 'ring', 'ring', 'C', 'C', 'bracketed atom', '=C', 'bracketed atom', 'C', 'C', 'C']\n",
      "Env new state: 87.5 Reward to agent: 0 Done: True Info:  {}\n",
      "\n",
      "Agent's chosen action:  0\n",
      "['C', 'ring', 'ring', 'C', 'C', 'bracketed atom', '=C', 'bracketed atom', 'C', 'C', 'C', 'C']\n",
      "Env new state: 87.5 Reward to agent: 0 Done: True Info:  {}\n",
      "\n",
      "Agent's chosen action:  0\n",
      "['C', 'ring', 'ring', 'C', 'C', 'bracketed atom', '=C', 'bracketed atom', 'C', 'C', 'C', 'C', 'C']\n",
      "Env new state: 87.5 Reward to agent: 0 Done: True Info:  {}\n",
      "\n",
      "Agent's chosen action:  4\n",
      "add bracketed atom\n",
      "['C', 'ring', 'ring', 'C', 'C', 'bracketed atom', '=C', 'bracketed atom', 'C', 'C', 'C', 'C', 'C', 'bracketed atom']\n",
      "Env new state: 100.0 Reward to agent: 0 Done: True Info:  {}\n",
      "\n",
      "Agent's chosen action:  1\n",
      "['C', 'ring', 'ring', 'C', 'C', 'bracketed atom', '=C', 'bracketed atom', 'C', 'C', 'C', 'C', 'C', 'bracketed atom', 'C']\n",
      "Env new state: 70.0 Reward to agent: 0 Done: True Info:  {}\n",
      "\n",
      "Agent's chosen action:  4\n",
      "add bracketed atom\n",
      "['C', 'ring', 'ring', 'C', 'C', 'bracketed atom', '=C', 'bracketed atom', 'C', 'C', 'C', 'C', 'C', 'bracketed atom', 'C', 'bracketed atom']\n",
      "Env new state: 100.0 Reward to agent: 0 Done: True Info:  {}\n",
      "\n",
      "Agent's chosen action:  4\n",
      "add bracketed atom\n",
      "['C', 'ring', 'ring', 'C', 'C', 'bracketed atom', '=C', 'bracketed atom', 'C', 'C', 'C', 'C', 'C', 'bracketed atom', 'C', 'bracketed atom', 'bracketed atom']\n",
      "Env new state: 100.0 Reward to agent: 0 Done: True Info:  {}\n",
      "\n",
      "Agent's chosen action:  2\n",
      "['C', 'ring', 'ring', 'C', 'C', 'bracketed atom', '=C', 'bracketed atom', 'C', 'C', 'C', 'C', 'C', 'bracketed atom', 'C', 'bracketed atom', 'bracketed atom', 'C']\n",
      "Env new state: 87.5 Reward to agent: 0 Done: True Info:  {}\n",
      "\n",
      "Agent's chosen action:  1\n",
      "['C', 'ring', 'ring', 'C', 'C', 'bracketed atom', '=C', 'bracketed atom', 'C', 'C', 'C', 'C', 'C', 'bracketed atom', 'C', 'bracketed atom', 'bracketed atom', 'C', 'C']\n",
      "Env new state: 70.0 Reward to agent: 0 Done: True Info:  {}\n",
      "\n",
      "Agent's chosen action:  4\n",
      "add bracketed atom\n",
      "['C', 'ring', 'ring', 'C', 'C', 'bracketed atom', '=C', 'bracketed atom', 'C', 'C', 'C', 'C', 'C', 'bracketed atom', 'C', 'bracketed atom', 'bracketed atom', 'C', 'C', 'bracketed atom']\n",
      "Env new state: 100.0 Reward to agent: 0 Done: True Info:  {}\n",
      "EPISODE: 1\n"
     ]
    }
   ],
   "source": [
    "def main():\n",
    "    env = gym.make(\"gym_molecule:molecule-v0\")\n",
    "    \n",
    "    #Create a new Molecule Agent object. \n",
    "    agent = MoleculeAgent(env.action_space)\n",
    "    \n",
    "    episode_count = 3\n",
    "    reward = 0\n",
    "    done = False\n",
    "\n",
    "    #The 'RL algorithm' learns for 2 episodes of undefined length.\n",
    "    for i in range(0, episode_count):\n",
    "        print(\"EPISODE:\", i)\n",
    "        \n",
    "        #The env resets.\n",
    "        ob = env.reset()\n",
    "        print(\"Env original state: \", ob)\n",
    "        \n",
    "        #While what is True? Maybe While done is False?\n",
    "        for x in range(20):\n",
    "            \n",
    "            #The agent chooses its action based on the tuple from the current env state.\n",
    "            action = agent.act(ob, reward, done)\n",
    "            print()\n",
    "            print(\"Agent's chosen action: \", action) \n",
    "            \n",
    "            #The new tuple is returned because the env has considered the agent's action.\n",
    "            ob, reward, done, _ = env.step(action)\n",
    "            print(\"Env new state:\", ob, \"Reward to agent:\",reward, \"Done:\",done, \"Info: \", _)\n",
    "            \n",
    "            #The env renders. \n",
    "            env.render()\n",
    "            \n",
    "            \n",
    "        \n",
    "            #If the env reaches a terminating state, the current iteration ends and the next \n",
    "            #episode begins. \n",
    "            \"\"\"\"if done:\n",
    "                print()\n",
    "                break\"\"\"\n",
    "        \n",
    "    env.close()\n",
    "    \n",
    "    \n",
    "if __name__ == '__main__':\n",
    "    main()"
   ]
  },
  {
   "cell_type": "code",
   "execution_count": null,
   "metadata": {},
   "outputs": [],
   "source": []
  },
  {
   "cell_type": "code",
   "execution_count": null,
   "metadata": {},
   "outputs": [],
   "source": []
  },
  {
   "cell_type": "code",
   "execution_count": null,
   "metadata": {},
   "outputs": [],
   "source": []
  }
 ],
 "metadata": {
  "kernelspec": {
   "display_name": "Python 3.7.7 64-bit ('mol-env': conda)",
   "language": "python",
   "name": "python37764bitmolenvconda23f61a7043ae40af8e2619758e942eec"
  },
  "language_info": {
   "codemirror_mode": {
    "name": "ipython",
    "version": 3
   },
   "file_extension": ".py",
   "mimetype": "text/x-python",
   "name": "python",
   "nbconvert_exporter": "python",
   "pygments_lexer": "ipython3",
   "version": "3.7.7"
  }
 },
 "nbformat": 4,
 "nbformat_minor": 4
}
