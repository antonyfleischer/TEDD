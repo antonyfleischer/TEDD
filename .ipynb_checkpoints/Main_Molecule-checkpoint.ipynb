{
 "cells": [
  {
   "cell_type": "markdown",
   "metadata": {},
   "source": [
    "# Main class for running the molecule environment"
   ]
  },
  {
   "cell_type": "code",
   "execution_count": 1,
   "metadata": {},
   "outputs": [],
   "source": [
    "import gym\n",
    "from gym import wrappers, logger\n",
    "from MoleculeAgent import MoleculeAgent"
   ]
  },
  {
   "cell_type": "code",
   "execution_count": 2,
   "metadata": {},
   "outputs": [
    {
     "name": "stdout",
     "output_type": "stream",
     "text": [
      "Enter a molecule to act as an optimisation Goal. \n",
      " for a random molecule enter '1' we\n",
      "Enter an atom or molecule to act as the start state of the environment: w\n"
     ]
    },
    {
     "ename": "AttributeError",
     "evalue": "'MoleculeEnvironment' object has no attribute 'CheckGoal'",
     "output_type": "error",
     "traceback": [
      "\u001b[0;31m---------------------------------------------------------------------------\u001b[0m",
      "\u001b[0;31mAttributeError\u001b[0m                            Traceback (most recent call last)",
      "\u001b[0;32m<ipython-input-2-93c8c29543f0>\u001b[0m in \u001b[0;36m<module>\u001b[0;34m\u001b[0m\n\u001b[1;32m     54\u001b[0m \u001b[0;34m\u001b[0m\u001b[0m\n\u001b[1;32m     55\u001b[0m \u001b[0;32mif\u001b[0m \u001b[0m__name__\u001b[0m \u001b[0;34m==\u001b[0m \u001b[0;34m'__main__'\u001b[0m\u001b[0;34m:\u001b[0m\u001b[0;34m\u001b[0m\u001b[0;34m\u001b[0m\u001b[0m\n\u001b[0;32m---> 56\u001b[0;31m     \u001b[0mmain\u001b[0m\u001b[0;34m(\u001b[0m\u001b[0;34m)\u001b[0m\u001b[0;34m\u001b[0m\u001b[0;34m\u001b[0m\u001b[0m\n\u001b[0m",
      "\u001b[0;32m<ipython-input-2-93c8c29543f0>\u001b[0m in \u001b[0;36mmain\u001b[0;34m()\u001b[0m\n\u001b[1;32m      9\u001b[0m \u001b[0;34m\u001b[0m\u001b[0m\n\u001b[1;32m     10\u001b[0m     \u001b[0menv\u001b[0m \u001b[0;34m=\u001b[0m \u001b[0mgym\u001b[0m\u001b[0;34m.\u001b[0m\u001b[0mmake\u001b[0m\u001b[0;34m(\u001b[0m\u001b[0;34m\"gym_molecule:molecule-v0\"\u001b[0m\u001b[0;34m)\u001b[0m\u001b[0;34m\u001b[0m\u001b[0;34m\u001b[0m\u001b[0m\n\u001b[0;32m---> 11\u001b[0;31m     \u001b[0menv\u001b[0m\u001b[0;34m.\u001b[0m\u001b[0mSetState\u001b[0m\u001b[0;34m(\u001b[0m\u001b[0mmol\u001b[0m\u001b[0;34m,\u001b[0m\u001b[0mgoal\u001b[0m\u001b[0;34m)\u001b[0m\u001b[0;34m\u001b[0m\u001b[0;34m\u001b[0m\u001b[0m\n\u001b[0m\u001b[1;32m     12\u001b[0m     \u001b[0mprint\u001b[0m\u001b[0;34m(\u001b[0m\u001b[0;34m\"Environment initialiased.\"\u001b[0m\u001b[0;34m)\u001b[0m\u001b[0;34m\u001b[0m\u001b[0;34m\u001b[0m\u001b[0m\n\u001b[1;32m     13\u001b[0m     \u001b[0;31m#Create a new Molecule Agent object.\u001b[0m\u001b[0;34m\u001b[0m\u001b[0;34m\u001b[0m\u001b[0;34m\u001b[0m\u001b[0m\n",
      "\u001b[0;32m~/Documents/UNI/CSC3003S/TEDD/gym_molecule/envs/molecule_env.py\u001b[0m in \u001b[0;36mSetState\u001b[0;34m(self, mol, goal)\u001b[0m\n\u001b[1;32m    105\u001b[0m             \u001b[0mself\u001b[0m\u001b[0;34m.\u001b[0m\u001b[0mmolecule\u001b[0m\u001b[0;34m.\u001b[0m\u001b[0mGetRandomGoal\u001b[0m\u001b[0;34m(\u001b[0m\u001b[0;34m)\u001b[0m\u001b[0;34m\u001b[0m\u001b[0;34m\u001b[0m\u001b[0m\n\u001b[1;32m    106\u001b[0m         \u001b[0;32melse\u001b[0m\u001b[0;34m:\u001b[0m\u001b[0;34m\u001b[0m\u001b[0;34m\u001b[0m\u001b[0m\n\u001b[0;32m--> 107\u001b[0;31m             \u001b[0mself\u001b[0m\u001b[0;34m.\u001b[0m\u001b[0mCheckGoal\u001b[0m\u001b[0;34m(\u001b[0m\u001b[0;34m)\u001b[0m\u001b[0;34m\u001b[0m\u001b[0;34m\u001b[0m\u001b[0m\n\u001b[0m\u001b[1;32m    108\u001b[0m             \u001b[0mself\u001b[0m\u001b[0;34m.\u001b[0m\u001b[0mmolecule\u001b[0m \u001b[0;34m=\u001b[0m \u001b[0mMol\u001b[0m\u001b[0;34m(\u001b[0m\u001b[0mmol\u001b[0m\u001b[0;34m,\u001b[0m\u001b[0mgoal\u001b[0m\u001b[0;34m)\u001b[0m\u001b[0;34m\u001b[0m\u001b[0;34m\u001b[0m\u001b[0m\n\u001b[1;32m    109\u001b[0m \u001b[0;34m\u001b[0m\u001b[0m\n",
      "\u001b[0;31mAttributeError\u001b[0m: 'MoleculeEnvironment' object has no attribute 'CheckGoal'"
     ]
    }
   ],
   "source": [
    "def main():\n",
    "    \n",
    "    # Get input goal and start state from user\n",
    "    goal = input(\"Enter a molecule to act as an optimisation Goal. \\n for a random molecule enter '1' \")\n",
    "    if goal == \"1\":\n",
    "        mol = 1\n",
    "    else: \n",
    "        mol = input(\"Enter an atom or molecule to act as the start state of the environment: \")\n",
    "        \n",
    "    env = gym.make(\"gym_molecule:molecule-v0\")\n",
    "    env.SetState(mol,goal)\n",
    "    print(\"Environment initialiased.\")\n",
    "    #Create a new Molecule Agent object. \n",
    "    agent = MoleculeAgent(env.action_space)\n",
    "    \n",
    "    \n",
    "    episode_count = 3\n",
    "    reward = 0\n",
    "    done = False\n",
    "\n",
    "    #The 'RL algorithm' learns for 2 episodes of undefined length.\n",
    "    for i in range(0, episode_count):\n",
    "        print(\"EPISODE:\", i)\n",
    "        \n",
    "        #The env resets.\n",
    "        ob = env.reset()\n",
    "        print(\"Env original state: \", ob)\n",
    "        \n",
    "        #While what is True? Maybe While done is False?\n",
    "        for x in range(20):\n",
    "            \n",
    "            #The agent chooses its action based on the tuple from the current env state.\n",
    "            action = agent.act(ob, reward, done)\n",
    "            print()\n",
    "            print(\"Agent's chosen action: \", action) \n",
    "            \n",
    "            #The new tuple is returned because the env has considered the agent's action.\n",
    "            ob, reward, done, _ = env.step(action)\n",
    "            print(\"Env new state:\", ob, \"Reward to agent:\",reward, \"Done:\",done, \"Info: \", _)\n",
    "            \n",
    "            #The env renders. \n",
    "            env.render()\n",
    "            \n",
    "            \n",
    "        \n",
    "            #If the env reaches a terminating state, the current iteration ends and the next \n",
    "            #episode begins. \n",
    "            \"\"\"\"if done:\n",
    "                print()\n",
    "                break\"\"\"\n",
    "        \n",
    "    env.close()\n",
    "    \n",
    "    \n",
    "if __name__ == '__main__':\n",
    "    main()"
   ]
  },
  {
   "cell_type": "code",
   "execution_count": null,
   "metadata": {},
   "outputs": [],
   "source": []
  },
  {
   "cell_type": "code",
   "execution_count": null,
   "metadata": {},
   "outputs": [],
   "source": []
  },
  {
   "cell_type": "code",
   "execution_count": null,
   "metadata": {},
   "outputs": [],
   "source": []
  }
 ],
 "metadata": {
  "kernelspec": {
   "display_name": "Python 3",
   "language": "python",
   "name": "python3"
  },
  "language_info": {
   "codemirror_mode": {
    "name": "ipython",
    "version": 3
   },
   "file_extension": ".py",
   "mimetype": "text/x-python",
   "name": "python",
   "nbconvert_exporter": "python",
   "pygments_lexer": "ipython3",
   "version": "3.7.6"
  }
 },
 "nbformat": 4,
 "nbformat_minor": 4
}
