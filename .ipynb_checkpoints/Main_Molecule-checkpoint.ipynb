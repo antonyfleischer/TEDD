{
 "cells": [
  {
   "cell_type": "markdown",
   "metadata": {},
   "source": [
    "# Main class for running the molecule environment"
   ]
  },
  {
   "cell_type": "code",
   "execution_count": 1,
   "metadata": {},
   "outputs": [],
   "source": [
    "import gym\n",
    "from gym import wrappers, logger\n",
    "from molecule_agent import MoleculeAgent\n",
    "from rdkit import Chem\n",
    "from rdkit.Chem import AllChem, Draw\n",
    "import matplotlib.pyplot as plt\n",
    "from collections import deque\n",
    "\n",
    "\n",
    "# TODO: Render as a main function too\n",
    "# Render toggled in the main class \n",
    "# find the correct time delay\n",
    "# \n",
    "# Add pop in modifications"
   ]
  },
  {
   "cell_type": "code",
   "execution_count": 2,
   "metadata": {},
   "outputs": [
    {
     "name": "stdout",
     "output_type": "stream",
     "text": [
      "Welcome to TEDD, the Training Environment for Drug Discovery.\n",
      "In order to run the environment, you will need to input a starting molecule, a target molecule and an optimisation goal.\n",
      "Step 1) Choose starting molecule: \n",
      "Input ‘1’ to choose a CARBON molecule.\n",
      "Input ‘2’ to choose a RANDOM molecule.\n"
     ]
    },
    {
     "name": "stdin",
     "output_type": "stream",
     "text": [
      "Input:  2\n"
     ]
    },
    {
     "name": "stdout",
     "output_type": "stream",
     "text": [
      "\n",
      "Step 2) Choose target molecule: \n",
      "Input ‘1’ to SPECIFY a molecule.\n",
      "Input ‘2’ to choose a RANDOM molecule.\n"
     ]
    },
    {
     "name": "stdin",
     "output_type": "stream",
     "text": [
      "Input:  2\n"
     ]
    },
    {
     "name": "stdout",
     "output_type": "stream",
     "text": [
      "\n",
      "Step 3) Choose optimisation goal: \n",
      "Input a number from 0 to 100.\n"
     ]
    },
    {
     "name": "stdin",
     "output_type": "stream",
     "text": [
      "Input:  0.5\n"
     ]
    },
    {
     "name": "stdout",
     "output_type": "stream",
     "text": [
      "\n",
      "Environment initialiased.\n",
      "Agent initialiased.\n",
      "\n",
      "Starting molecule = F\n",
      "Target molecule = c1cC2C(=O)NC(=O)C2cc1\n",
      "Optimisation goal = 0.5\n",
      "\n",
      "Episode: 1, Starting State: 0.0\n",
      "Action:  3\n",
      "State: 0.0 \n",
      "Reward: -10 \n",
      "Done: False \n",
      "Info: \n"
     ]
    },
    {
     "name": "stderr",
     "output_type": "stream",
     "text": [
      "RDKit ERROR: [14:59:32] Explicit valence for atom # 1 F, 2, is greater than permitted\n"
     ]
    },
    {
     "data": {
      "image/png": "[encoded data removed]",
      "text/plain": [
       "<Figure size 432x288 with 1 Axes>"
      ]
     },
     "metadata": {
      "needs_background": "light"
     },
     "output_type": "display_data"
    },
    {
     "name": "stdout",
     "output_type": "stream",
     "text": [
      "Action:  3\n",
      "State: 0.0 \n",
      "Reward: 0 \n",
      "Done: False \n",
      "Info: \n"
     ]
    },
    {
     "data": {
      "image/png": "[encoded data removed]",
      "text/plain": [
       "<Figure size 432x288 with 1 Axes>"
      ]
     },
     "metadata": {
      "needs_background": "light"
     },
     "output_type": "display_data"
    },
    {
     "name": "stdout",
     "output_type": "stream",
     "text": [
      "Action:  5\n",
      "State: 0.0 \n",
      "Reward: 0 \n",
      "Done: False \n",
      "Info: \n"
     ]
    },
    {
     "data": {
      "image/png": "[encoded data removed]",
      "text/plain": [
       "<Figure size 432x288 with 1 Axes>"
      ]
     },
     "metadata": {
      "needs_background": "light"
     },
     "output_type": "display_data"
    },
    {
     "name": "stdout",
     "output_type": "stream",
     "text": [
      "Action:  1\n",
      "State: 0.6211 \n",
      "Reward: 100 \n",
      "Done: True \n",
      "Info: \n"
     ]
    },
    {
     "data": {
      "image/png": "[encoded data removed]",
      "text/plain": [
       "<Figure size 432x288 with 1 Axes>"
      ]
     },
     "metadata": {
      "needs_background": "light"
     },
     "output_type": "display_data"
    },
    {
     "name": "stdout",
     "output_type": "stream",
     "text": [
      "Optimisation Goal Achieved - Episode: 1, Step: 4, Similarity %: 0.6211\n"
     ]
    }
   ],
   "source": [
    "def is_valid(mol):\n",
    "    try:\n",
    "        molecule = Chem.MolFromSmiles(mol)\n",
    "        smiles = Chem.MolToSmiles(molecule, isomericSmiles=True)\n",
    "    except:\n",
    "        print(\"Entered input is chemically invalid\")\n",
    "        return False\n",
    "    else:\n",
    "        return True\n",
    "\n",
    "\n",
    "def main():\n",
    "    print(\"Welcome to TEDD, the Training Environment for Drug Discovery.\")\n",
    "    print(\"In order to run the environment, you will need to input a starting molecule, a target molecule and an optimisation goal.\")\n",
    "  \n",
    "    # determine starting molecule\n",
    "    while True:\n",
    "        print(\"Step 1) Choose starting molecule: \\nInput ‘1’ to choose a CARBON molecule.\\nInput ‘2’ to choose a RANDOM molecule.\")\n",
    "        starting_molecule = input(\"Input: \")\n",
    "        if not(starting_molecule == \"1\" or starting_molecule == \"2\"):\n",
    "            print(\"Incorrect Input.\\n\")\n",
    "        elif starting_molecule == '1':\n",
    "            starting_molecule = \"C\" # get carbon molecule \n",
    "            break\n",
    "        else:\n",
    "            starting_molecule = \"1\" # get random molecule \n",
    "            break\n",
    "\n",
    "    # determine target molecule\n",
    "    while True:\n",
    "        print(\"\\nStep 2) Choose target molecule: \\nInput ‘1’ to SPECIFY a molecule.\\nInput ‘2’ to choose a RANDOM molecule.\")\n",
    "        target_molecule = input(\"Input: \")\n",
    "        if not(target_molecule == '1' or target_molecule == '2'):\n",
    "            print(\"Incorrect Input.\\n\")\n",
    "        elif target_molecule == '1':\n",
    "            print(\"Input the target molecule.\")\n",
    "            target_molecule = input(\"Input: \")\n",
    "            if is_valid(target_molecule): # check validity of molecule (?)\n",
    "                break\n",
    "            else:\n",
    "                print(\"Incorrect Input.\\n\")\n",
    "        else:\n",
    "            target_molecule = \"1\" # get random molecule \n",
    "            break\n",
    "\n",
    "    # determine optimisation goal\n",
    "    while True:\n",
    "        print(\"\\nStep 3) Choose optimisation goal: \\nInput a number from 0 to 100.\")\n",
    "        optimisation_goal = input(\"Input: \")\n",
    "        try:\n",
    "            optimisation_goal = float(optimisation_goal)\n",
    "            if optimisation_goal < 0 or optimisation_goal > 100:\n",
    "                print(\"Incorrect Input.\\n\")\n",
    "            else:\n",
    "                break\n",
    "        except:\n",
    "            print(\"Incorrect Input.\\n\")\n",
    "    print()\n",
    "\n",
    "    env = gym.make(\"gym_molecule:molecule-v0\", start = starting_molecule, target = target_molecule, goal = optimisation_goal)\n",
    "    print(\"Environment initialiased.\")\n",
    "\n",
    "    agent = MoleculeAgent(env.observation_space, env.action_space) # Create a new Molecule Agent object.\n",
    "    print(\"Agent initialiased.\\n\")\n",
    "    \n",
    "    print(\"Starting molecule =\", env.mol)\n",
    "    print(\"Target molecule =\", env.goal)\n",
    "    print(\"Optimisation goal =\", env.similarity)\n",
    "    print()\n",
    "    \n",
    "    episode_count = 2\n",
    "    reward = 0\n",
    "    done = False\n",
    "    \n",
    "    for episode in range(1,5):\n",
    "\n",
    "        if done:\n",
    "            break\n",
    "            \n",
    "        state = env.reset()\n",
    "        print(\"Episode: \" + str(episode) + \", Starting State: \" + str(state))\n",
    "\n",
    "        for step in range(1,21):\n",
    "            action = agent.act(state, reward, done)\n",
    "            print(\"Action: \", action) \n",
    "\n",
    "            state_next, reward, done, info = env.step(action)\n",
    "            print(\"State:\", state_next, \"\\nReward:\", reward, \"\\nDone:\", done,\"\\nInfo: \")\n",
    "\n",
    "            agent.remember(state, action, reward, state_next, done)\n",
    "            state = state_next\n",
    "\n",
    "            env.render()\n",
    "\n",
    "            if done:\n",
    "                print(\"Optimisation Goal Achieved - Episode: \" + str(episode) + \", Step: \" + str(step) + \", Similarity %: \" + str(state))\n",
    "                break  \n",
    "                \n",
    "    agent.save_memory()\n",
    "    env.close()\n",
    "            \n",
    "    \n",
    "if __name__ == '__main__':\n",
    "    main()\n",
    "\n",
    "# Aspirin: O=C(C)Oc1ccccc1C(=O)O\n",
    "# Start with: Oc1ccccc1C"
   ]
  },
  {
   "cell_type": "markdown",
   "metadata": {},
   "source": [
    "## "
   ]
  },
  {
   "cell_type": "code",
   "execution_count": null,
   "metadata": {},
   "outputs": [],
   "source": []
  }
 ],
 "metadata": {
  "kernelspec": {
   "display_name": "Python 3.7.7 64-bit ('mol-env': conda)",
   "language": "python",
   "name": "python37764bitmolenvconda23f61a7043ae40af8e2619758e942eec"
  },
  "language_info": {
   "codemirror_mode": {
    "name": "ipython",
    "version": 3
   },
   "file_extension": ".py",
   "mimetype": "text/x-python",
   "name": "python",
   "nbconvert_exporter": "python",
   "pygments_lexer": "ipython3",
   "version": "3.7.7"
  }
 },
 "nbformat": 4,
 "nbformat_minor": 4
}
