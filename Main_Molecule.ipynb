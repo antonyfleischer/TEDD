{
 "cells": [
  {
   "cell_type": "markdown",
   "metadata": {},
   "source": [
    "# Main class for running the molecule environment"
   ]
  },
  {
   "cell_type": "code",
   "execution_count": 1,
   "metadata": {},
   "outputs": [
    {
     "name": "stdout",
     "output_type": "stream",
     "text": [
      "importing Jupyter notebook from MoleculeAgent.ipynb\n"
     ]
    }
   ],
   "source": [
    "import gym\n",
    "import import_ipynb\n",
    "from gym import wrappers, logger\n",
    "from MoleculeAgent import MoleculeAgent"
   ]
  },
  {
   "cell_type": "code",
   "execution_count": 2,
   "metadata": {},
   "outputs": [
    {
     "name": "stdout",
     "output_type": "stream",
     "text": [
      "(0.0, -1.0, 0.0)\n",
      "(0.0, -1.0, 0.0)\n",
      "(0.0, 0.0, -1.0)\n",
      "(1.0, 0.0, 0.0)\n",
      "(0.0, 0.0, 1.0)\n",
      "(0.0, 1.0, 0.0)\n",
      "(0.0, 0.0, -1.0)\n",
      "(0.0, -1.0, 0.0)\n",
      "(-1.0, 0.0, 0.0)\n",
      "(0.0, 1.0, 0.0)\n",
      "(1.0, 0.0, 0.0)\n",
      "(0.0, 1.0, 0.0)\n",
      "(-1.0, 0.0, 0.0)\n",
      "(0.0, 0.0, 1.0)\n",
      "(-1.0, 0.0, 0.0)\n",
      "(0.0, 0.0, 1.0)\n",
      "(1.0, 0.0, 0.0)\n",
      "(0.0, 0.0, 1.0)\n",
      "(0.0, -1.0, 0.0)\n",
      "(0.0, -1.0, 0.0)\n",
      "(0.0, -1.0, 0.0)\n",
      "(0.0, 0.0, 1.0)\n",
      "(1.0, 0.0, 0.0)\n",
      "(0.0, 1.0, 0.0)\n",
      "(0.0, 1.0, 0.0)\n",
      "(0.0, 1.0, 0.0)\n",
      "(0.0, 0.0, 1.0)\n",
      "(0.0, 0.0, -1.0)\n",
      "(0.0, 1.0, 0.0)\n",
      "(0.0, -1.0, 0.0)\n",
      "(0.0, 0.0, 1.0)\n",
      "(0.0, 0.0, -1.0)\n",
      "(-1.0, 0.0, 0.0)\n",
      "(0.0, 1.0, 0.0)\n",
      "(0.0, 0.0, -1.0)\n",
      "(1.0, 0.0, 0.0)\n",
      "(-1.0, 0.0, 0.0)\n",
      "(0.0, -1.0, 0.0)\n",
      "(0.0, 0.0, -1.0)\n",
      "(0.0, 0.0, -1.0)\n",
      "(1.0, 0.0, 0.0)\n",
      "(0.0, 1.0, 0.0)\n",
      "(0.0, 0.0, -1.0)\n",
      "(0.0, 1.0, 0.0)\n",
      "(0.0, -1.0, 0.0)\n",
      "(1.0, 0.0, 0.0)\n",
      "(0.0, -1.0, 0.0)\n",
      "(0.0, -1.0, 0.0)\n",
      "(0.0, 1.0, 0.0)\n",
      "(1.0, 0.0, 0.0)\n",
      "(1.0, 0.0, 0.0)\n",
      "(0.0, 0.0, -1.0)\n",
      "(0.0, 1.0, 0.0)\n",
      "(0.0, 0.0, -1.0)\n",
      "(1.0, 0.0, 0.0)\n",
      "(1.0, 0.0, 0.0)\n",
      "(-1.0, 0.0, 0.0)\n",
      "(0.0, -1.0, 0.0)\n",
      "(1.0, 0.0, 0.0)\n",
      "(0.0, 1.0, 0.0)\n",
      "(1.0, 0.0, 0.0)\n",
      "(1.0, 0.0, 0.0)\n",
      "(0.0, 1.0, 0.0)\n",
      "(0.0, 0.0, 1.0)\n",
      "(0.0, -1.0, 0.0)\n",
      "(-1.0, 0.0, 0.0)\n",
      "(0.0, 1.0, 0.0)\n",
      "(0.0, -1.0, 0.0)\n",
      "(0.0, 0.0, 1.0)\n",
      "(1.0, 0.0, 0.0)\n",
      "(0.0, -1.0, 0.0)\n",
      "(0.0, 1.0, 0.0)\n",
      "(0.0, 0.0, 1.0)\n",
      "(0.0, 1.0, 0.0)\n",
      "(0.0, 1.0, 0.0)\n",
      "(0.0, 1.0, 0.0)\n",
      "(-1.0, 0.0, 0.0)\n",
      "(-1.0, 0.0, 0.0)\n",
      "(0.0, 0.0, 1.0)\n",
      "(0.0, -1.0, 0.0)\n",
      "(0.0, 1.0, 0.0)\n",
      "(0.0, 1.0, 0.0)\n",
      "(0.0, 0.0, -1.0)\n",
      "(1.0, 0.0, 0.0)\n",
      "(0.0, 0.0, -1.0)\n",
      "(0.0, 0.0, -1.0)\n",
      "(0.0, 0.0, 1.0)\n",
      "(0.0, 0.0, 1.0)\n",
      "(-1.0, 0.0, 0.0)\n",
      "(0.0, 1.0, 0.0)\n",
      "(0.0, -1.0, 0.0)\n",
      "(0.0, -1.0, 0.0)\n",
      "(0.0, 1.0, 0.0)\n",
      "(0.0, 0.0, 1.0)\n",
      "(0.0, 1.0, 0.0)\n",
      "(1.0, 0.0, 0.0)\n",
      "(1.0, 0.0, 0.0)\n",
      "(0.0, 0.0, 1.0)\n",
      "(1.0, 0.0, 0.0)\n",
      "(0.0, 0.0, -1.0)\n"
     ]
    }
   ],
   "source": [
    "def main():\n",
    "    env = gym.make(\"gym_molecule:molecule-v0\")\n",
    "    \n",
    "    agent = MoleculeAgent(env.action_space)\n",
    "    \n",
    "    episode_count = 100\n",
    "    reward = 0\n",
    "    done = False\n",
    "\n",
    "    for i in range(episode_count):\n",
    "        ob = env.reset()\n",
    "        while True:\n",
    "            action = agent.act(ob, reward, done)\n",
    "            ob, reward, done, _ = env.step(action)\n",
    "            env.render()\n",
    "            if done:\n",
    "                break\n",
    "        \n",
    "    env.close()\n",
    "    \n",
    "    \n",
    "if __name__ == '__main__':\n",
    "    main()"
   ]
  },
  {
   "cell_type": "code",
   "execution_count": null,
   "metadata": {},
   "outputs": [],
   "source": []
  }
 ],
 "metadata": {
  "kernelspec": {
   "display_name": "Python 3",
   "language": "python",
   "name": "python3"
  },
  "language_info": {
   "codemirror_mode": {
    "name": "ipython",
    "version": 3
   },
   "file_extension": ".py",
   "mimetype": "text/x-python",
   "name": "python",
   "nbconvert_exporter": "python",
   "pygments_lexer": "ipython3",
   "version": "3.7.7"
  }
 },
 "nbformat": 4,
 "nbformat_minor": 4
}
