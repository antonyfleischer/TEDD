{
 "cells": [
  {
   "cell_type": "markdown",
   "metadata": {},
   "source": [
    "# Main class for running the molecule environment"
   ]
  },
  {
   "cell_type": "code",
   "execution_count": 1,
   "metadata": {},
   "outputs": [],
   "source": [
    "import gym\n",
    "from gym import wrappers, logger\n",
    "from MoleculeAgent import MoleculeAgent"
   ]
  },
  {
   "cell_type": "code",
   "execution_count": 2,
   "metadata": {},
   "outputs": [
    {
     "name": "stdout",
     "output_type": "stream",
     "text": [
      "EPISODE: 0\n",
      "Env original state:  0.0\n",
      "Agent's chosen action:  2\n",
      "calculating Reward\n",
      "Env new state: 20.0 Reward to agent: 1 Done: False Info:  {}\n",
      "Agent's chosen action:  5\n",
      "5\n",
      "calculating Reward\n",
      "Env new state: 20.0 Reward to agent: 1 Done: False Info:  {}\n",
      "Agent's chosen action:  5\n",
      "5\n",
      "calculating Reward\n",
      "Env new state: 20.0 Reward to agent: 1 Done: False Info:  {}\n",
      "Agent's chosen action:  3\n",
      "3\n",
      "calculating Reward\n",
      "Env new state: 20.0 Reward to agent: 1 Done: False Info:  {}\n",
      "Agent's chosen action:  1\n",
      "calculating Reward\n",
      "Env new state: 0.0 Reward to agent: 1 Done: False Info:  {}\n",
      "Agent's chosen action:  5\n",
      "5\n",
      "calculating Reward\n",
      "Env new state: 0.0 Reward to agent: 1 Done: False Info:  {}\n",
      "Agent's chosen action:  2\n",
      "calculating Reward\n",
      "Env new state: 20.0 Reward to agent: 1 Done: False Info:  {}\n",
      "Agent's chosen action:  2\n",
      "calculating Reward\n",
      "Env new state: 14.2857 Reward to agent: 1 Done: False Info:  {}\n",
      "Agent's chosen action:  4\n",
      "4\n",
      "calculating Reward\n",
      "Env new state: 14.2857 Reward to agent: 1 Done: False Info:  {}\n",
      "Agent's chosen action:  1\n",
      "calculating Reward\n",
      "Env new state: 0.0 Reward to agent: 1 Done: False Info:  {}\n",
      "EPISODE: 1\n",
      "Env original state:  0.0\n",
      "Agent's chosen action:  3\n",
      "3\n",
      "calculating Reward\n",
      "Env new state: 0.0 Reward to agent: 1 Done: False Info:  {}\n",
      "Agent's chosen action:  0\n",
      "calculating Reward\n",
      "Env new state: 0.0 Reward to agent: 1 Done: False Info:  {}\n",
      "Agent's chosen action:  5\n",
      "5\n",
      "calculating Reward\n",
      "Env new state: 0.0 Reward to agent: 1 Done: False Info:  {}\n",
      "Agent's chosen action:  2\n"
     ]
    },
    {
     "name": "stderr",
     "output_type": "stream",
     "text": [
      "RDKit ERROR: [16:45:59] Explicit valence for atom # 1 Cl, 2, is greater than permitted\n"
     ]
    },
    {
     "ename": "ArgumentError",
     "evalue": "Python argument types in\n    rdkit.Chem.rdmolops.RDKFingerprint(NoneType)\ndid not match C++ signature:\n    RDKFingerprint(RDKit::ROMol mol, unsigned int minPath=1, unsigned int maxPath=7, unsigned int fpSize=2048, unsigned int nBitsPerHash=2, bool useHs=True, double tgtDensity=0.0, unsigned int minSize=128, bool branchedPaths=True, bool useBondOrder=True, boost::python::api::object atomInvariants=0, boost::python::api::object fromAtoms=0, boost::python::api::object atomBits=None, boost::python::api::object bitInfo=None)",
     "output_type": "error",
     "traceback": [
      "\u001b[0;31m---------------------------------------------------------------------------\u001b[0m",
      "\u001b[0;31mArgumentError\u001b[0m                             Traceback (most recent call last)",
      "\u001b[0;32m<ipython-input-2-3ccf8c185fb1>\u001b[0m in \u001b[0;36m<module>\u001b[0;34m\u001b[0m\n\u001b[1;32m     43\u001b[0m \u001b[0;34m\u001b[0m\u001b[0m\n\u001b[1;32m     44\u001b[0m \u001b[0;32mif\u001b[0m \u001b[0m__name__\u001b[0m \u001b[0;34m==\u001b[0m \u001b[0;34m'__main__'\u001b[0m\u001b[0;34m:\u001b[0m\u001b[0;34m\u001b[0m\u001b[0;34m\u001b[0m\u001b[0m\n\u001b[0;32m---> 45\u001b[0;31m     \u001b[0mmain\u001b[0m\u001b[0;34m(\u001b[0m\u001b[0;34m)\u001b[0m\u001b[0;34m\u001b[0m\u001b[0;34m\u001b[0m\u001b[0m\n\u001b[0m",
      "\u001b[0;32m<ipython-input-2-3ccf8c185fb1>\u001b[0m in \u001b[0;36mmain\u001b[0;34m()\u001b[0m\n\u001b[1;32m     25\u001b[0m \u001b[0;34m\u001b[0m\u001b[0m\n\u001b[1;32m     26\u001b[0m             \u001b[0;31m#The new tuple is returned because the env has considered the agent's action.\u001b[0m\u001b[0;34m\u001b[0m\u001b[0;34m\u001b[0m\u001b[0;34m\u001b[0m\u001b[0m\n\u001b[0;32m---> 27\u001b[0;31m             \u001b[0mob\u001b[0m\u001b[0;34m,\u001b[0m \u001b[0mreward\u001b[0m\u001b[0;34m,\u001b[0m \u001b[0mdone\u001b[0m\u001b[0;34m,\u001b[0m \u001b[0m_\u001b[0m \u001b[0;34m=\u001b[0m \u001b[0menv\u001b[0m\u001b[0;34m.\u001b[0m\u001b[0mstep\u001b[0m\u001b[0;34m(\u001b[0m\u001b[0maction\u001b[0m\u001b[0;34m)\u001b[0m\u001b[0;34m\u001b[0m\u001b[0;34m\u001b[0m\u001b[0m\n\u001b[0m\u001b[1;32m     28\u001b[0m             \u001b[0mprint\u001b[0m\u001b[0;34m(\u001b[0m\u001b[0;34m\"Env new state:\"\u001b[0m\u001b[0;34m,\u001b[0m \u001b[0mob\u001b[0m\u001b[0;34m,\u001b[0m \u001b[0;34m\"Reward to agent:\"\u001b[0m\u001b[0;34m,\u001b[0m\u001b[0mreward\u001b[0m\u001b[0;34m,\u001b[0m \u001b[0;34m\"Done:\"\u001b[0m\u001b[0;34m,\u001b[0m\u001b[0mdone\u001b[0m\u001b[0;34m,\u001b[0m \u001b[0;34m\"Info: \"\u001b[0m\u001b[0;34m,\u001b[0m \u001b[0m_\u001b[0m\u001b[0;34m)\u001b[0m\u001b[0;34m\u001b[0m\u001b[0;34m\u001b[0m\u001b[0m\n\u001b[1;32m     29\u001b[0m \u001b[0;34m\u001b[0m\u001b[0m\n",
      "\u001b[0;32m~/Documents/UNI/CSC3003S/Prototype testing/gym_molecule/envs/molecule_env.py\u001b[0m in \u001b[0;36mstep\u001b[0;34m(self, action)\u001b[0m\n\u001b[1;32m     71\u001b[0m \u001b[0;34m\u001b[0m\u001b[0m\n\u001b[1;32m     72\u001b[0m         \u001b[0;31m#The observation state of the env is refreshed.\u001b[0m\u001b[0;34m\u001b[0m\u001b[0;34m\u001b[0m\u001b[0;34m\u001b[0m\u001b[0m\n\u001b[0;32m---> 73\u001b[0;31m         \u001b[0mself\u001b[0m\u001b[0;34m.\u001b[0m\u001b[0mstate\u001b[0m \u001b[0;34m=\u001b[0m \u001b[0mself\u001b[0m\u001b[0;34m.\u001b[0m\u001b[0mmolecule\u001b[0m\u001b[0;34m.\u001b[0m\u001b[0mGetSimilarity\u001b[0m\u001b[0;34m(\u001b[0m\u001b[0;34m)\u001b[0m\u001b[0;34m\u001b[0m\u001b[0;34m\u001b[0m\u001b[0m\n\u001b[0m\u001b[1;32m     74\u001b[0m \u001b[0;34m\u001b[0m\u001b[0m\n\u001b[1;32m     75\u001b[0m         \u001b[0;31m#In order to fix each Episode only iterating once. We must ensure this doesn't evaluate to true after one iteration.\u001b[0m\u001b[0;34m\u001b[0m\u001b[0;34m\u001b[0m\u001b[0;34m\u001b[0m\u001b[0m\n",
      "\u001b[0;32m~/Documents/UNI/CSC3003S/Prototype testing/Chemistry.py\u001b[0m in \u001b[0;36mGetSimilarity\u001b[0;34m(self)\u001b[0m\n\u001b[1;32m     87\u001b[0m         \u001b[0mmol1\u001b[0m \u001b[0;34m=\u001b[0m \u001b[0mChem\u001b[0m\u001b[0;34m.\u001b[0m\u001b[0mMolFromSmiles\u001b[0m\u001b[0;34m(\u001b[0m\u001b[0mself\u001b[0m\u001b[0;34m.\u001b[0m\u001b[0mmol\u001b[0m\u001b[0;34m)\u001b[0m\u001b[0;34m\u001b[0m\u001b[0;34m\u001b[0m\u001b[0m\n\u001b[1;32m     88\u001b[0m         \u001b[0mmol2\u001b[0m \u001b[0;34m=\u001b[0m \u001b[0mChem\u001b[0m\u001b[0;34m.\u001b[0m\u001b[0mMolFromSmiles\u001b[0m\u001b[0;34m(\u001b[0m\u001b[0mself\u001b[0m\u001b[0;34m.\u001b[0m\u001b[0mgoal\u001b[0m\u001b[0;34m)\u001b[0m\u001b[0;34m\u001b[0m\u001b[0;34m\u001b[0m\u001b[0m\n\u001b[0;32m---> 89\u001b[0;31m         \u001b[0mfingerprint1\u001b[0m \u001b[0;34m=\u001b[0m \u001b[0mChem\u001b[0m\u001b[0;34m.\u001b[0m\u001b[0mRDKFingerprint\u001b[0m\u001b[0;34m(\u001b[0m\u001b[0mmol1\u001b[0m\u001b[0;34m)\u001b[0m\u001b[0;34m\u001b[0m\u001b[0;34m\u001b[0m\u001b[0m\n\u001b[0m\u001b[1;32m     90\u001b[0m         \u001b[0mfingerprint2\u001b[0m \u001b[0;34m=\u001b[0m \u001b[0mChem\u001b[0m\u001b[0;34m.\u001b[0m\u001b[0mRDKFingerprint\u001b[0m\u001b[0;34m(\u001b[0m\u001b[0mmol2\u001b[0m\u001b[0;34m)\u001b[0m\u001b[0;34m\u001b[0m\u001b[0;34m\u001b[0m\u001b[0m\n\u001b[1;32m     91\u001b[0m         \u001b[0;32mreturn\u001b[0m \u001b[0mround\u001b[0m\u001b[0;34m(\u001b[0m\u001b[0mDataStructs\u001b[0m\u001b[0;34m.\u001b[0m\u001b[0mTanimotoSimilarity\u001b[0m\u001b[0;34m(\u001b[0m\u001b[0mfingerprint1\u001b[0m\u001b[0;34m,\u001b[0m\u001b[0mfingerprint2\u001b[0m\u001b[0;34m)\u001b[0m \u001b[0;34m*\u001b[0m\u001b[0;36m100\u001b[0m\u001b[0;34m,\u001b[0m \u001b[0;36m4\u001b[0m\u001b[0;34m)\u001b[0m\u001b[0;34m\u001b[0m\u001b[0;34m\u001b[0m\u001b[0m\n",
      "\u001b[0;31mArgumentError\u001b[0m: Python argument types in\n    rdkit.Chem.rdmolops.RDKFingerprint(NoneType)\ndid not match C++ signature:\n    RDKFingerprint(RDKit::ROMol mol, unsigned int minPath=1, unsigned int maxPath=7, unsigned int fpSize=2048, unsigned int nBitsPerHash=2, bool useHs=True, double tgtDensity=0.0, unsigned int minSize=128, bool branchedPaths=True, bool useBondOrder=True, boost::python::api::object atomInvariants=0, boost::python::api::object fromAtoms=0, boost::python::api::object atomBits=None, boost::python::api::object bitInfo=None)"
     ]
    }
   ],
   "source": [
    "def main():\n",
    "    env = gym.make(\"gym_molecule:molecule-v0\")\n",
    "    \n",
    "    #Create a new Molecule Agent object. \n",
    "    agent = MoleculeAgent(env.action_space)\n",
    "    \n",
    "    episode_count = 5\n",
    "    reward = 0\n",
    "    done = False\n",
    "\n",
    "    #The 'RL algorithm' learns for 2 episodes of undefined length.\n",
    "    for i in range(0, episode_count):\n",
    "        print(\"EPISODE:\", i)\n",
    "        \n",
    "        #The env resets.\n",
    "        ob = env.reset()\n",
    "        print(\"Env original state: \", ob)\n",
    "        \n",
    "        #While what is True? Maybe While done is False?\n",
    "        for x in range(10):\n",
    "            \n",
    "            #The agent chooses its action based on the tuple from the current env state.\n",
    "            action = agent.act(ob, reward, done)\n",
    "            print(\"Agent's chosen action: \", action) \n",
    "            \n",
    "            #The new tuple is returned because the env has considered the agent's action.\n",
    "            ob, reward, done, _ = env.step(action)\n",
    "            print(\"Env new state:\", ob, \"Reward to agent:\",reward, \"Done:\",done, \"Info: \", _)\n",
    "            \n",
    "            #The env renders. \n",
    "            env.render()\n",
    "            \n",
    "            \n",
    "        \n",
    "            #If the env reaches a terminating state, the current iteration ends and the next \n",
    "            #episode begins. \n",
    "            \"\"\"\"if done:\n",
    "                print()\n",
    "                break\"\"\"\n",
    "        \n",
    "    env.close()\n",
    "    \n",
    "    \n",
    "if __name__ == '__main__':\n",
    "    main()"
   ]
  },
  {
   "cell_type": "code",
   "execution_count": null,
   "metadata": {},
   "outputs": [],
   "source": []
  }
 ],
 "metadata": {
  "kernelspec": {
   "display_name": "Python 3",
   "language": "python",
   "name": "python3"
  },
  "language_info": {
   "codemirror_mode": {
    "name": "ipython",
    "version": 3
   },
   "file_extension": ".py",
   "mimetype": "text/x-python",
   "name": "python",
   "nbconvert_exporter": "python",
   "pygments_lexer": "ipython3",
   "version": "3.7.6"
  }
 },
 "nbformat": 4,
 "nbformat_minor": 4
}
