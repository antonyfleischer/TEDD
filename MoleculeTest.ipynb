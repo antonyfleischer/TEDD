{
 "cells": [
  {
   "cell_type": "markdown",
   "metadata": {},
   "source": [
    "# Testing Chemistry for molecule environment"
   ]
  },
  {
   "cell_type": "markdown",
   "metadata": {},
   "source": [
    "TODO:\n",
    "\n",
    "    - clean data set of invalid smile objects\n",
    "    \n",
    "    "
   ]
  },
  {
   "cell_type": "code",
   "execution_count": 3,
   "metadata": {},
   "outputs": [],
   "source": [
    "# imports crucial to molecule object\n",
    "import pandas as pd\n",
    "import os\n",
    "from rdkit import Chem, DataStructs\n",
    "import random\n",
    "from Chemistry import Mol\n",
    "from rdkit.Chem import Draw\n",
    "# imports for testing"
   ]
  },
  {
   "cell_type": "code",
   "execution_count": 4,
   "metadata": {},
   "outputs": [],
   "source": [
    "df = pd.read_csv('MoleculeLibrary.csv')"
   ]
  },
  {
   "cell_type": "code",
   "execution_count": 5,
   "metadata": {},
   "outputs": [
    {
     "data": {
      "text/plain": [
       "Index(['Unnamed: 0', 'SMILES', 'Compound ID'], dtype='object')"
      ]
     },
     "execution_count": 5,
     "metadata": {},
     "output_type": "execute_result"
    }
   ],
   "source": [
    "df.columns"
   ]
  },
  {
   "cell_type": "code",
   "execution_count": 6,
   "metadata": {},
   "outputs": [
    {
     "data": {
      "text/plain": [
       "True"
      ]
     },
     "execution_count": 6,
     "metadata": {},
     "output_type": "execute_result"
    }
   ],
   "source": [
    "os.path.isfile('./MoleculeLibrary.csv')"
   ]
  },
  {
   "cell_type": "code",
   "execution_count": 7,
   "metadata": {},
   "outputs": [
    {
     "data": {
      "text/html": [
       "<div>\n",
       "<style scoped>\n",
       "    .dataframe tbody tr th:only-of-type {\n",
       "        vertical-align: middle;\n",
       "    }\n",
       "\n",
       "    .dataframe tbody tr th {\n",
       "        vertical-align: top;\n",
       "    }\n",
       "\n",
       "    .dataframe thead th {\n",
       "        text-align: right;\n",
       "    }\n",
       "</style>\n",
       "<table border=\"1\" class=\"dataframe\">\n",
       "  <thead>\n",
       "    <tr style=\"text-align: right;\">\n",
       "      <th></th>\n",
       "      <th>Unnamed: 0</th>\n",
       "      <th>SMILES</th>\n",
       "      <th>Compound ID</th>\n",
       "    </tr>\n",
       "  </thead>\n",
       "  <tbody>\n",
       "    <tr>\n",
       "      <th>1084</th>\n",
       "      <td>1084</td>\n",
       "      <td>CCCCCCCCCCCCCC</td>\n",
       "      <td>Tetradecane</td>\n",
       "    </tr>\n",
       "    <tr>\n",
       "      <th>1085</th>\n",
       "      <td>1085</td>\n",
       "      <td>Cc1c(F)c(F)c(COC(=O)C2C(C=C(Cl)C(F)(F)F)C2(C)C...</td>\n",
       "      <td>Tetrafluthrin</td>\n",
       "    </tr>\n",
       "    <tr>\n",
       "      <th>1086</th>\n",
       "      <td>1086</td>\n",
       "      <td>C1CCOC1</td>\n",
       "      <td>Tetrahydrofurane</td>\n",
       "    </tr>\n",
       "    <tr>\n",
       "      <th>1087</th>\n",
       "      <td>1087</td>\n",
       "      <td>C1CCOCC1</td>\n",
       "      <td>Tetrahydropyran</td>\n",
       "    </tr>\n",
       "    <tr>\n",
       "      <th>1088</th>\n",
       "      <td>1088</td>\n",
       "      <td>CN(C)C(=O)N(C)C</td>\n",
       "      <td>tetramethylurea</td>\n",
       "    </tr>\n",
       "    <tr>\n",
       "      <th>1089</th>\n",
       "      <td>1089</td>\n",
       "      <td>O=C1N(C2CCC(=O)NC2=O)C(=O)c3ccccc13</td>\n",
       "      <td>Thalidomide</td>\n",
       "    </tr>\n",
       "    <tr>\n",
       "      <th>1090</th>\n",
       "      <td>1090</td>\n",
       "      <td>Cn1cnc2n(C)c(=O)[nH]c(=O)c12</td>\n",
       "      <td>theobromine</td>\n",
       "    </tr>\n",
       "    <tr>\n",
       "      <th>1091</th>\n",
       "      <td>1091</td>\n",
       "      <td>Cn1c(=O)n(C)c2nc[nH]c2c1=O</td>\n",
       "      <td>Theophylline</td>\n",
       "    </tr>\n",
       "    <tr>\n",
       "      <th>1092</th>\n",
       "      <td>1092</td>\n",
       "      <td>CS(=O)(=O)c1ccc(cc1)C(O)C(CO)NC(=O)C(Cl)Cl</td>\n",
       "      <td>Thiamphenicol</td>\n",
       "    </tr>\n",
       "    <tr>\n",
       "      <th>1093</th>\n",
       "      <td>1093</td>\n",
       "      <td>CCCC(C)C1(CC=C)C(=O)NC(=S)NC1=O</td>\n",
       "      <td>thiamylal</td>\n",
       "    </tr>\n",
       "    <tr>\n",
       "      <th>1094</th>\n",
       "      <td>1094</td>\n",
       "      <td>c1ccccc1SC</td>\n",
       "      <td>thioanisole</td>\n",
       "    </tr>\n",
       "    <tr>\n",
       "      <th>1095</th>\n",
       "      <td>1095</td>\n",
       "      <td>CNC(=O)ON=C(CSC)C(C)(C)C</td>\n",
       "      <td>thiofanox</td>\n",
       "    </tr>\n",
       "    <tr>\n",
       "      <th>1096</th>\n",
       "      <td>1096</td>\n",
       "      <td>CCSCCSP(=S)(OC)OC</td>\n",
       "      <td>Thiometon</td>\n",
       "    </tr>\n",
       "    <tr>\n",
       "      <th>1097</th>\n",
       "      <td>1097</td>\n",
       "      <td>CCCC(C)C1(CC)C(=O)NC(=S)NC1=O</td>\n",
       "      <td>thiopental</td>\n",
       "    </tr>\n",
       "    <tr>\n",
       "      <th>1098</th>\n",
       "      <td>1098</td>\n",
       "      <td>c1ccsc1</td>\n",
       "      <td>Thiophene</td>\n",
       "    </tr>\n",
       "    <tr>\n",
       "      <th>1099</th>\n",
       "      <td>1099</td>\n",
       "      <td>Sc1ccccc1</td>\n",
       "      <td>Thiophenol</td>\n",
       "    </tr>\n",
       "    <tr>\n",
       "      <th>1100</th>\n",
       "      <td>1100</td>\n",
       "      <td>Sc1nccc(=O)[nH]1</td>\n",
       "      <td>thiouracil</td>\n",
       "    </tr>\n",
       "    <tr>\n",
       "      <th>1101</th>\n",
       "      <td>1101</td>\n",
       "      <td>NC(=S)N</td>\n",
       "      <td>Thiourea</td>\n",
       "    </tr>\n",
       "    <tr>\n",
       "      <th>1102</th>\n",
       "      <td>1102</td>\n",
       "      <td>CN(C)C(=S)SSC(=S)N(C)C</td>\n",
       "      <td>Thiram</td>\n",
       "    </tr>\n",
       "    <tr>\n",
       "      <th>1103</th>\n",
       "      <td>1103</td>\n",
       "      <td>Cc1c[nH]c(=O)[nH]c1=O</td>\n",
       "      <td>thymine</td>\n",
       "    </tr>\n",
       "    <tr>\n",
       "      <th>1104</th>\n",
       "      <td>1104</td>\n",
       "      <td>CC(C)c1ccc(C)cc1O</td>\n",
       "      <td>Thymol</td>\n",
       "    </tr>\n",
       "    <tr>\n",
       "      <th>1105</th>\n",
       "      <td>1105</td>\n",
       "      <td>Cc1ccccc1</td>\n",
       "      <td>Toluene</td>\n",
       "    </tr>\n",
       "    <tr>\n",
       "      <th>1106</th>\n",
       "      <td>1106</td>\n",
       "      <td>CC(C)(C)Cc1ccccc1</td>\n",
       "      <td>t-Pentylbenzene</td>\n",
       "    </tr>\n",
       "    <tr>\n",
       "      <th>1107</th>\n",
       "      <td>1107</td>\n",
       "      <td>C/C1CCC(\\C)CC1</td>\n",
       "      <td>trans-1,4-Dimethylcyclohexane</td>\n",
       "    </tr>\n",
       "    <tr>\n",
       "      <th>1108</th>\n",
       "      <td>1108</td>\n",
       "      <td>CCCC/C=C/C</td>\n",
       "      <td>trans-2-Heptene</td>\n",
       "    </tr>\n",
       "    <tr>\n",
       "      <th>1109</th>\n",
       "      <td>1109</td>\n",
       "      <td>CC/C=C/C</td>\n",
       "      <td>trans-2-Pentene</td>\n",
       "    </tr>\n",
       "    <tr>\n",
       "      <th>1110</th>\n",
       "      <td>1110</td>\n",
       "      <td>CC(C)(C)C(=O)C(Oc1ccc(Cl)cc1)n2cncn2</td>\n",
       "      <td>Triadimefon</td>\n",
       "    </tr>\n",
       "    <tr>\n",
       "      <th>1111</th>\n",
       "      <td>1111</td>\n",
       "      <td>CC(C)N(C(C)C)C(=O)SCC(Cl)=C(Cl)Cl</td>\n",
       "      <td>Triallate</td>\n",
       "    </tr>\n",
       "    <tr>\n",
       "      <th>1112</th>\n",
       "      <td>1112</td>\n",
       "      <td>CC34CC(O)C1(F)C(CCC2=CC(=O)C=CC12C)C3CC(O)C4(O...</td>\n",
       "      <td>Triamcinolone</td>\n",
       "    </tr>\n",
       "    <tr>\n",
       "      <th>1113</th>\n",
       "      <td>1113</td>\n",
       "      <td>CC5(C)OC4CC3C2CCC1=CC(=O)C=CC1(C)C2(F)C(O)CC3(...</td>\n",
       "      <td>triamcinolone acetonide</td>\n",
       "    </tr>\n",
       "    <tr>\n",
       "      <th>1114</th>\n",
       "      <td>1114</td>\n",
       "      <td>CC(=O)OCC(=O)C3(O)C(CC4C2CCC1=CC(=O)C=CC1(C)C2...</td>\n",
       "      <td>triamcinolone diacetate</td>\n",
       "    </tr>\n",
       "    <tr>\n",
       "      <th>1115</th>\n",
       "      <td>1115</td>\n",
       "      <td>Nc3nc(N)c2nc(c1ccccc1)c(N)nc2n3</td>\n",
       "      <td>Triamterene</td>\n",
       "    </tr>\n",
       "    <tr>\n",
       "      <th>1116</th>\n",
       "      <td>1116</td>\n",
       "      <td>Cc3nnc4CN=C(c1ccccc1Cl)c2cc(Cl)ccc2n34</td>\n",
       "      <td>Triazolam</td>\n",
       "    </tr>\n",
       "    <tr>\n",
       "      <th>1117</th>\n",
       "      <td>1117</td>\n",
       "      <td>BrC(Br)Br</td>\n",
       "      <td>Tribromomethane</td>\n",
       "    </tr>\n",
       "    <tr>\n",
       "      <th>1118</th>\n",
       "      <td>1118</td>\n",
       "      <td>NS(=O)(=O)c2cc1c(NC(NS1(=O)=O)C(Cl)Cl)cc2Cl</td>\n",
       "      <td>Trichlomethiazide</td>\n",
       "    </tr>\n",
       "    <tr>\n",
       "      <th>1119</th>\n",
       "      <td>1119</td>\n",
       "      <td>COP(=O)(OC)C(O)C(Cl)(Cl)Cl</td>\n",
       "      <td>Trichlorfon</td>\n",
       "    </tr>\n",
       "    <tr>\n",
       "      <th>1120</th>\n",
       "      <td>1120</td>\n",
       "      <td>NS(=O)(=O)c2cc1c(NC(NS1(=O)=O)C(Cl)Cl)cc2Cl</td>\n",
       "      <td>trichlormethiazide</td>\n",
       "    </tr>\n",
       "    <tr>\n",
       "      <th>1121</th>\n",
       "      <td>1121</td>\n",
       "      <td>ClC(Cl)(Cl)C#N</td>\n",
       "      <td>Trichloroacetonitrile</td>\n",
       "    </tr>\n",
       "    <tr>\n",
       "      <th>1122</th>\n",
       "      <td>1122</td>\n",
       "      <td>ClC=C(Cl)Cl</td>\n",
       "      <td>Trichloroethylene</td>\n",
       "    </tr>\n",
       "    <tr>\n",
       "      <th>1123</th>\n",
       "      <td>1123</td>\n",
       "      <td>ClC(Cl)Cl</td>\n",
       "      <td>Trichloromethane</td>\n",
       "    </tr>\n",
       "    <tr>\n",
       "      <th>1124</th>\n",
       "      <td>1124</td>\n",
       "      <td>CCOP(=S)(CC)Oc1cc(Cl)c(Cl)cc1Cl</td>\n",
       "      <td>Trichloronate</td>\n",
       "    </tr>\n",
       "    <tr>\n",
       "      <th>1125</th>\n",
       "      <td>1125</td>\n",
       "      <td>Oc1cc(Cl)ccc1Oc2ccc(Cl)cc2Cl</td>\n",
       "      <td>Triclosan</td>\n",
       "    </tr>\n",
       "    <tr>\n",
       "      <th>1126</th>\n",
       "      <td>1126</td>\n",
       "      <td>Cc1ccc(OP(=O)(Oc2cccc(C)c2)Oc3ccccc3C)cc1</td>\n",
       "      <td>Tricresyl phosphate</td>\n",
       "    </tr>\n",
       "    <tr>\n",
       "      <th>1127</th>\n",
       "      <td>1127</td>\n",
       "      <td>Cc2cccc3sc1nncn1c23</td>\n",
       "      <td>Tricyclazole</td>\n",
       "    </tr>\n",
       "    <tr>\n",
       "      <th>1128</th>\n",
       "      <td>1128</td>\n",
       "      <td>CCNc1nc(Cl)nc(n1)N(CC)CC</td>\n",
       "      <td>Trietazine</td>\n",
       "    </tr>\n",
       "    <tr>\n",
       "      <th>1129</th>\n",
       "      <td>1129</td>\n",
       "      <td>CCOP(=O)(OCC)OCC</td>\n",
       "      <td>Triethyl phosphate</td>\n",
       "    </tr>\n",
       "    <tr>\n",
       "      <th>1130</th>\n",
       "      <td>1130</td>\n",
       "      <td>CCCN(CCC)c1c(cc(cc1N(=O)=O)C(F)(F)F)N(=O)=O</td>\n",
       "      <td>Trifluralin</td>\n",
       "    </tr>\n",
       "    <tr>\n",
       "      <th>1131</th>\n",
       "      <td>1131</td>\n",
       "      <td>ClC(Cl)(Cl)C(NC=O)N1C=CN(C=C1)C(NC=O)C(Cl)(Cl)Cl</td>\n",
       "      <td>triforine</td>\n",
       "    </tr>\n",
       "    <tr>\n",
       "      <th>1132</th>\n",
       "      <td>1132</td>\n",
       "      <td>COc2cc1c(N)nc(nc1c(OC)c2OC)N3CCN(CC3)C(=O)OCC(...</td>\n",
       "      <td>Trimazosin</td>\n",
       "    </tr>\n",
       "    <tr>\n",
       "      <th>1133</th>\n",
       "      <td>1133</td>\n",
       "      <td>c1ccc2c(c1)c3ccccc3c4ccccc24</td>\n",
       "      <td>Triphenylene</td>\n",
       "    </tr>\n",
       "    <tr>\n",
       "      <th>1134</th>\n",
       "      <td>1134</td>\n",
       "      <td>Nc1ncnc2n(ccc12)C3OC(CO)C(O)C3O</td>\n",
       "      <td>tubercidin</td>\n",
       "    </tr>\n",
       "    <tr>\n",
       "      <th>1135</th>\n",
       "      <td>1135</td>\n",
       "      <td>O=c1cc[nH]c(=O)[nH]1</td>\n",
       "      <td>uracil</td>\n",
       "    </tr>\n",
       "    <tr>\n",
       "      <th>1136</th>\n",
       "      <td>1136</td>\n",
       "      <td>NC(=O)N</td>\n",
       "      <td>Urea</td>\n",
       "    </tr>\n",
       "    <tr>\n",
       "      <th>1137</th>\n",
       "      <td>1137</td>\n",
       "      <td>O=c2[nH]c(=O)c1[nH]c(=O)[nH]c1[nH]2</td>\n",
       "      <td>uric acid</td>\n",
       "    </tr>\n",
       "    <tr>\n",
       "      <th>1138</th>\n",
       "      <td>1138</td>\n",
       "      <td>CCCCC=O</td>\n",
       "      <td>Valeraldehyde</td>\n",
       "    </tr>\n",
       "    <tr>\n",
       "      <th>1139</th>\n",
       "      <td>1139</td>\n",
       "      <td>CNC(=O)C(C)SCCSP(=O)(OC)(OC)</td>\n",
       "      <td>vamidothion</td>\n",
       "    </tr>\n",
       "    <tr>\n",
       "      <th>1140</th>\n",
       "      <td>1140</td>\n",
       "      <td>CC1(OC(=O)N(C1=O)c2cc(Cl)cc(Cl)c2)C=C</td>\n",
       "      <td>Vinclozolin</td>\n",
       "    </tr>\n",
       "    <tr>\n",
       "      <th>1141</th>\n",
       "      <td>1141</td>\n",
       "      <td>CC(=O)CC(c1ccccc1)c3c(O)c2ccccc2oc3=O</td>\n",
       "      <td>Warfarin</td>\n",
       "    </tr>\n",
       "    <tr>\n",
       "      <th>1142</th>\n",
       "      <td>1142</td>\n",
       "      <td>Cc1cccc(C)c1NC(=O)c2cc(c(Cl)cc2O)S(N)(=O)=O</td>\n",
       "      <td>Xipamide</td>\n",
       "    </tr>\n",
       "    <tr>\n",
       "      <th>1143</th>\n",
       "      <td>1143</td>\n",
       "      <td>CNC(=O)Oc1cc(C)cc(C)c1</td>\n",
       "      <td>XMC</td>\n",
       "    </tr>\n",
       "  </tbody>\n",
       "</table>\n",
       "</div>"
      ],
      "text/plain": [
       "      Unnamed: 0                                             SMILES  \\\n",
       "1084        1084                                     CCCCCCCCCCCCCC   \n",
       "1085        1085  Cc1c(F)c(F)c(COC(=O)C2C(C=C(Cl)C(F)(F)F)C2(C)C...   \n",
       "1086        1086                                            C1CCOC1   \n",
       "1087        1087                                           C1CCOCC1   \n",
       "1088        1088                                   CN(C)C(=O)N(C)C    \n",
       "1089        1089                O=C1N(C2CCC(=O)NC2=O)C(=O)c3ccccc13   \n",
       "1090        1090                      Cn1cnc2n(C)c(=O)[nH]c(=O)c12    \n",
       "1091        1091                         Cn1c(=O)n(C)c2nc[nH]c2c1=O   \n",
       "1092        1092        CS(=O)(=O)c1ccc(cc1)C(O)C(CO)NC(=O)C(Cl)Cl    \n",
       "1093        1093                   CCCC(C)C1(CC=C)C(=O)NC(=S)NC1=O    \n",
       "1094        1094                                         c1ccccc1SC   \n",
       "1095        1095                          CNC(=O)ON=C(CSC)C(C)(C)C    \n",
       "1096        1096                                  CCSCCSP(=S)(OC)OC   \n",
       "1097        1097                     CCCC(C)C1(CC)C(=O)NC(=S)NC1=O    \n",
       "1098        1098                                            c1ccsc1   \n",
       "1099        1099                                          Sc1ccccc1   \n",
       "1100        1100                                  Sc1nccc(=O)[nH]1    \n",
       "1101        1101                                            NC(=S)N   \n",
       "1102        1102                            CN(C)C(=S)SSC(=S)N(C)C    \n",
       "1103        1103                             Cc1c[nH]c(=O)[nH]c1=O    \n",
       "1104        1104                                  CC(C)c1ccc(C)cc1O   \n",
       "1105        1105                                          Cc1ccccc1   \n",
       "1106        1106                                  CC(C)(C)Cc1ccccc1   \n",
       "1107        1107                                     C/C1CCC(\\C)CC1   \n",
       "1108        1108                                         CCCC/C=C/C   \n",
       "1109        1109                                           CC/C=C/C   \n",
       "1110        1110               CC(C)(C)C(=O)C(Oc1ccc(Cl)cc1)n2cncn2   \n",
       "1111        1111                  CC(C)N(C(C)C)C(=O)SCC(Cl)=C(Cl)Cl   \n",
       "1112        1112  CC34CC(O)C1(F)C(CCC2=CC(=O)C=CC12C)C3CC(O)C4(O...   \n",
       "1113        1113  CC5(C)OC4CC3C2CCC1=CC(=O)C=CC1(C)C2(F)C(O)CC3(...   \n",
       "1114        1114  CC(=O)OCC(=O)C3(O)C(CC4C2CCC1=CC(=O)C=CC1(C)C2...   \n",
       "1115        1115                    Nc3nc(N)c2nc(c1ccccc1)c(N)nc2n3   \n",
       "1116        1116             Cc3nnc4CN=C(c1ccccc1Cl)c2cc(Cl)ccc2n34   \n",
       "1117        1117                                          BrC(Br)Br   \n",
       "1118        1118       NS(=O)(=O)c2cc1c(NC(NS1(=O)=O)C(Cl)Cl)cc2Cl    \n",
       "1119        1119                         COP(=O)(OC)C(O)C(Cl)(Cl)Cl   \n",
       "1120        1120       NS(=O)(=O)c2cc1c(NC(NS1(=O)=O)C(Cl)Cl)cc2Cl    \n",
       "1121        1121                                     ClC(Cl)(Cl)C#N   \n",
       "1122        1122                                        ClC=C(Cl)Cl   \n",
       "1123        1123                                          ClC(Cl)Cl   \n",
       "1124        1124                    CCOP(=S)(CC)Oc1cc(Cl)c(Cl)cc1Cl   \n",
       "1125        1125                       Oc1cc(Cl)ccc1Oc2ccc(Cl)cc2Cl   \n",
       "1126        1126          Cc1ccc(OP(=O)(Oc2cccc(C)c2)Oc3ccccc3C)cc1   \n",
       "1127        1127                               Cc2cccc3sc1nncn1c23    \n",
       "1128        1128                           CCNc1nc(Cl)nc(n1)N(CC)CC   \n",
       "1129        1129                                   CCOP(=O)(OCC)OCC   \n",
       "1130        1130        CCCN(CCC)c1c(cc(cc1N(=O)=O)C(F)(F)F)N(=O)=O   \n",
       "1131        1131  ClC(Cl)(Cl)C(NC=O)N1C=CN(C=C1)C(NC=O)C(Cl)(Cl)Cl    \n",
       "1132        1132  COc2cc1c(N)nc(nc1c(OC)c2OC)N3CCN(CC3)C(=O)OCC(...   \n",
       "1133        1133                       c1ccc2c(c1)c3ccccc3c4ccccc24   \n",
       "1134        1134                   Nc1ncnc2n(ccc12)C3OC(CO)C(O)C3O    \n",
       "1135        1135                              O=c1cc[nH]c(=O)[nH]1    \n",
       "1136        1136                                            NC(=O)N   \n",
       "1137        1137               O=c2[nH]c(=O)c1[nH]c(=O)[nH]c1[nH]2    \n",
       "1138        1138                                            CCCCC=O   \n",
       "1139        1139                       CNC(=O)C(C)SCCSP(=O)(OC)(OC)   \n",
       "1140        1140              CC1(OC(=O)N(C1=O)c2cc(Cl)cc(Cl)c2)C=C   \n",
       "1141        1141             CC(=O)CC(c1ccccc1)c3c(O)c2ccccc2oc3=O    \n",
       "1142        1142        Cc1cccc(C)c1NC(=O)c2cc(c(Cl)cc2O)S(N)(=O)=O   \n",
       "1143        1143                             CNC(=O)Oc1cc(C)cc(C)c1   \n",
       "\n",
       "                        Compound ID  \n",
       "1084                    Tetradecane  \n",
       "1085                  Tetrafluthrin  \n",
       "1086              Tetrahydrofurane   \n",
       "1087               Tetrahydropyran   \n",
       "1088                tetramethylurea  \n",
       "1089                    Thalidomide  \n",
       "1090                    theobromine  \n",
       "1091                   Theophylline  \n",
       "1092                  Thiamphenicol  \n",
       "1093                      thiamylal  \n",
       "1094                    thioanisole  \n",
       "1095                      thiofanox  \n",
       "1096                      Thiometon  \n",
       "1097                     thiopental  \n",
       "1098                      Thiophene  \n",
       "1099                    Thiophenol   \n",
       "1100                     thiouracil  \n",
       "1101                       Thiourea  \n",
       "1102                         Thiram  \n",
       "1103                        thymine  \n",
       "1104                         Thymol  \n",
       "1105                       Toluene   \n",
       "1106                t-Pentylbenzene  \n",
       "1107  trans-1,4-Dimethylcyclohexane  \n",
       "1108               trans-2-Heptene   \n",
       "1109               trans-2-Pentene   \n",
       "1110                    Triadimefon  \n",
       "1111                      Triallate  \n",
       "1112                  Triamcinolone  \n",
       "1113        triamcinolone acetonide  \n",
       "1114        triamcinolone diacetate  \n",
       "1115                    Triamterene  \n",
       "1116                      Triazolam  \n",
       "1117                Tribromomethane  \n",
       "1118              Trichlomethiazide  \n",
       "1119                    Trichlorfon  \n",
       "1120             trichlormethiazide  \n",
       "1121          Trichloroacetonitrile  \n",
       "1122              Trichloroethylene  \n",
       "1123               Trichloromethane  \n",
       "1124                  Trichloronate  \n",
       "1125                      Triclosan  \n",
       "1126            Tricresyl phosphate  \n",
       "1127                   Tricyclazole  \n",
       "1128                     Trietazine  \n",
       "1129             Triethyl phosphate  \n",
       "1130                    Trifluralin  \n",
       "1131                      triforine  \n",
       "1132                     Trimazosin  \n",
       "1133                   Triphenylene  \n",
       "1134                     tubercidin  \n",
       "1135                         uracil  \n",
       "1136                           Urea  \n",
       "1137                      uric acid  \n",
       "1138                  Valeraldehyde  \n",
       "1139                    vamidothion  \n",
       "1140                    Vinclozolin  \n",
       "1141                       Warfarin  \n",
       "1142                       Xipamide  \n",
       "1143                            XMC  "
      ]
     },
     "execution_count": 7,
     "metadata": {},
     "output_type": "execute_result"
    }
   ],
   "source": [
    "df.tail(60)"
   ]
  },
  {
   "cell_type": "markdown",
   "metadata": {},
   "source": [
    "## possible bonding \n",
    "    =C\n",
    "    -C\n",
    "    [C]\n",
    "    (C)\n",
    "    "
   ]
  },
  {
   "cell_type": "markdown",
   "metadata": {},
   "source": [
    "###  Useful methods \n",
    "\n",
    " m.GetAtomWithIdx(0).GetSymbol()\n",
    "    'C'\n",
    "    \n",
    " m.GetAtomWithIdx(0).GetExplicitValence()\n",
    "    2\n",
    "    \n",
    " m.GetBondWithIdx(0).GetBeginAtomIdx()\n",
    "    0\n",
    "    \n",
    " m.GetBondWithIdx(0).GetEndAtomIdx()\n",
    "    1\n",
    "    \n",
    " m.GetBondBetweenAtoms(0,1).GetBondType()\n",
    "rdkit.Chem.rdchem.BondType.SINGLE"
   ]
  },
  {
   "cell_type": "markdown",
   "metadata": {},
   "source": [
    "## Molecule Class"
   ]
  },
  {
   "cell_type": "markdown",
   "metadata": {},
   "source": [
    "## Comparing molecules to others\n",
    "\n",
    "\n",
    "Notes:\n",
    "    - we should use the comparision for the history as well as to the goal.\n",
    "    - There must be a limit of history restores before it reverts twice\n",
    "    - bad actions must somehow be penalized\n",
    "    - use while loops to test\n",
    "    - explore adding bonds \n",
    "    - explore processing the goal\n",
    "Reward notes:\n",
    "    - could get a reward through the % similarity and delta of the similarity \n",
    "    - minus one to penalise same state \n",
    "    - use history to have two deltas with a penalty term for being stagnent \n",
    "        - eg. 63% once from a previous 40% would be a reward = 63 + 23 - 1 = 85\n",
    "        - 63% twice returns reward = 63 + 0 - 1 = 62\n",
    "        \n",
    "    "
   ]
  },
  {
   "cell_type": "code",
   "execution_count": 8,
   "metadata": {},
   "outputs": [],
   "source": [
    "# Set mol\n",
    "moltest = Mol('CC2Cc1ccccc1N2NC(=O)c3ccc(Cl)c(c3)S(N)(=O)=O', 'C#C' )"
   ]
  },
  {
   "cell_type": "code",
   "execution_count": 9,
   "metadata": {},
   "outputs": [
    {
     "data": {
      "text/plain": [
       "247    2-Methyltetrahydrofurane\n",
       "Name: Compound ID, dtype: object"
      ]
     },
     "execution_count": 9,
     "metadata": {},
     "output_type": "execute_result"
    }
   ],
   "source": [
    "# get Random Goal and initial molecule\n",
    "moltest.GetRandomGoal()"
   ]
  },
  {
   "cell_type": "code",
   "execution_count": 10,
   "metadata": {},
   "outputs": [
    {
     "name": "stdout",
     "output_type": "stream",
     "text": [
      "New goal:         CC1CCCO1\n",
      "New initial Mol:  C\n"
     ]
    }
   ],
   "source": [
    "print(\"New goal:         \" + moltest.goal + \"\\n\" + \"New initial Mol:  \" + moltest.mol)"
   ]
  },
  {
   "cell_type": "code",
   "execution_count": 11,
   "metadata": {},
   "outputs": [
    {
     "name": "stdout",
     "output_type": "stream",
     "text": [
      "['C', 'O']\n",
      "[1.0]\n"
     ]
    }
   ],
   "source": [
    "# display current atom options \n",
    "atoms = moltest.get_Atoms()\n",
    "print(atoms)\n",
    "bonds = moltest.get_Bonds()\n",
    "print(bonds)"
   ]
  },
  {
   "cell_type": "code",
   "execution_count": 25,
   "metadata": {},
   "outputs": [
    {
     "name": "stderr",
     "output_type": "stream",
     "text": [
      "RDKit ERROR: [16:50:52] Explicit valence for atom # 4 O, 4, is greater than permitted\n"
     ]
    },
    {
     "data": {
      "text/plain": [
       "False"
      ]
     },
     "execution_count": 25,
     "metadata": {},
     "output_type": "execute_result"
    }
   ],
   "source": [
    "moltest.AddA(\"2CCCO2\", True)\n",
    "moltest.CheckValidity()"
   ]
  },
  {
   "cell_type": "code",
   "execution_count": 30,
   "metadata": {},
   "outputs": [
    {
     "name": "stdout",
     "output_type": "stream",
     "text": [
      "Molecule is 54.5455 % similar to the desired state\n"
     ]
    },
    {
     "data": {
      "text/plain": [
       "['C1CCCO1', 'C1CCCO1', 'C1CCCO1']"
      ]
     },
     "execution_count": 30,
     "metadata": {},
     "output_type": "execute_result"
    }
   ],
   "source": [
    "moltest.revertMol()\n",
    "print(\"Molecule is {} % similar to the desired state\".format( moltest.GetSimilarity()))\n",
    "moltest.GetMol()\n",
    "moltest.history()"
   ]
  },
  {
   "cell_type": "code",
   "execution_count": 24,
   "metadata": {},
   "outputs": [
    {
     "name": "stdout",
     "output_type": "stream",
     "text": [
      "Molecule at state S-1: \n",
      "C\n",
      "Molecule at state S: \n",
      "C\n",
      "Molecule is 54.5455 % similar to the desired state\n"
     ]
    },
    {
     "data": {
      "image/png": "[encoded data removed]",
      "text/plain": [
       "<rdkit.Chem.rdchem.Mol at 0x7f84258d65d0>"
      ]
     },
     "execution_count": 24,
     "metadata": {},
     "output_type": "execute_result"
    }
   ],
   "source": [
    "# Add correct atom to mol\n",
    "#moltest.AddA('C')\n",
    "#moltest.AddA(random.choice(atoms), True)\n",
    "\n",
    "\n",
    "# Print history\n",
    "moltest.DisplayChanges()\n",
    "\n",
    "# print delta from goal\n",
    "print(\"Molecule is {} % similar to the desired state\".format( moltest.GetSimilarity()))\n",
    "\n",
    "# show mol\n",
    "moltest.GetMol()\n",
    "\n"
   ]
  },
  {
   "cell_type": "code",
   "execution_count": 33,
   "metadata": {},
   "outputs": [
    {
     "name": "stderr",
     "output_type": "stream",
     "text": [
      "RDKit ERROR: [11:48:16] Explicit valence for atom # 1 O, 5, is greater than permitted\n"
     ]
    }
   ],
   "source": [
    "bondedatom = \"(\" + random.choice(atoms) + \")\"\n",
    "moltest.AddA(bondedatom, True)\n",
    "moltest.GetMol()"
   ]
  },
  {
   "cell_type": "code",
   "execution_count": 32,
   "metadata": {},
   "outputs": [
    {
     "name": "stderr",
     "output_type": "stream",
     "text": [
      "RDKit ERROR: [11:48:12] Explicit valence for atom # 1 O, 4, is greater than permitted\n"
     ]
    }
   ],
   "source": [
    "bondedatom2 = \"=\" + random.choice(atoms)\n",
    "moltest.AddA(bondedatom, True)\n",
    "moltest.GetMol()"
   ]
  },
  {
   "cell_type": "code",
   "execution_count": 29,
   "metadata": {},
   "outputs": [
    {
     "name": "stdout",
     "output_type": "stream",
     "text": [
      "['C(=O)', 'C(=O)(=O)']\n",
      "1.2579%\n"
     ]
    },
    {
     "data": {
      "image/png": "[encoded data removed]",
      "text/plain": [
       "<rdkit.Chem.rdchem.Mol at 0x7fe744218da0>"
      ]
     },
     "execution_count": 29,
     "metadata": {},
     "output_type": "execute_result"
    }
   ],
   "source": [
    "moltest.revertMol()\n",
    "print(moltest.history())\n",
    "print(str(moltest.GetSimilarity()) + \"%\")\n",
    "moltest.GetMol()"
   ]
  },
  {
   "cell_type": "code",
   "execution_count": 24,
   "metadata": {},
   "outputs": [],
   "source": [
    "moltest.AddA('e', True) # will be invalid"
   ]
  },
  {
   "cell_type": "code",
   "execution_count": 30,
   "metadata": {},
   "outputs": [
    {
     "name": "stderr",
     "output_type": "stream",
     "text": [
      "RDKit ERROR: [14:53:12] Explicit valence for atom # 11 Cl, 2, is greater than permitted\n"
     ]
    },
    {
     "data": {
      "text/plain": [
       "False"
      ]
     },
     "execution_count": 30,
     "metadata": {},
     "output_type": "execute_result"
    }
   ],
   "source": [
    "moltest.CheckValidity()"
   ]
  },
  {
   "cell_type": "markdown",
   "metadata": {},
   "source": [
    "###  ML TESTING\n",
    "    - create array of len possible mols\n",
    "    - take the option that creates the largest delta\n",
    "    "
   ]
  },
  {
   "cell_type": "code",
   "execution_count": 7,
   "metadata": {},
   "outputs": [],
   "source": [
    "elements = Chem.GetPeriodicTable()\n",
    "def GetValency(element):\n",
    "    return list(elements.GetValenceList(element))[0]"
   ]
  },
  {
   "cell_type": "code",
   "execution_count": 15,
   "metadata": {},
   "outputs": [
    {
     "data": {
      "text/plain": [
       "2"
      ]
     },
     "execution_count": 15,
     "metadata": {},
     "output_type": "execute_result"
    }
   ],
   "source": [
    "GetValency(\"S\")"
   ]
  },
  {
   "cell_type": "code",
   "execution_count": 49,
   "metadata": {},
   "outputs": [
    {
     "data": {
      "image/png": "[encoded data removed]",
      "text/plain": [
       "<PIL.PngImagePlugin.PngImageFile image mode=RGB size=1000x200 at 0x7FE73FADCD90>"
      ]
     },
     "execution_count": 49,
     "metadata": {},
     "output_type": "execute_result"
    }
   ],
   "source": [
    "ethanol = Chem.MolFromSmiles('CCO')\n",
    "isopropanol = Chem.MolFromSmiles('CC(C)O')\n",
    "phenol = Chem.MolFromSmiles('c1cccc(O)c1')\n",
    "t_butanol = Chem.MolFromSmiles('C(C)(C)(C)O')\n",
    "glycerol = Chem.MolFromSmiles('OCC(O)CO')\n",
    "\n",
    "alcohols = [ethanol, isopropanol, phenol, t_butanol, glycerol]\n",
    "\n",
    "Draw.MolsToGridImage(alcohols, molsPerRow=5)\n"
   ]
  },
  {
   "cell_type": "code",
   "execution_count": null,
   "metadata": {},
   "outputs": [],
   "source": []
  }
 ],
 "metadata": {
  "kernelspec": {
   "display_name": "Python 3",
   "language": "python",
   "name": "python3"
  },
  "language_info": {
   "codemirror_mode": {
    "name": "ipython",
    "version": 3
   },
   "file_extension": ".py",
   "mimetype": "text/x-python",
   "name": "python",
   "nbconvert_exporter": "python",
   "pygments_lexer": "ipython3",
   "version": "3.7.3"
  }
 },
 "nbformat": 4,
 "nbformat_minor": 4
}
