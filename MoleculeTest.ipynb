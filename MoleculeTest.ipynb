{
 "cells": [
  {
   "cell_type": "markdown",
   "metadata": {},
   "source": [
    "# Testing Chemistry for molecule environment"
   ]
  },
  {
   "cell_type": "markdown",
   "metadata": {},
   "source": [
    "TODO:\n",
    "\n",
    "    - clean data set of invalid smile objects\n",
    "    \n",
    "    "
   ]
  },
  {
   "cell_type": "code",
   "execution_count": 1,
   "metadata": {},
   "outputs": [],
   "source": [
    "# imports crucial to molecule object\n",
    "import pandas as pd\n",
    "import os\n",
    "from rdkit import Chem, DataStructs\n",
    "import random\n",
    "from Chemistry import Mol\n",
    "from rdkit.Chem import Draw\n",
    "# imports for testing"
   ]
  },
  {
   "cell_type": "code",
   "execution_count": 2,
   "metadata": {},
   "outputs": [],
   "source": [
    "df = pd.read_csv('MoleculeLibrary.csv')"
   ]
  },
  {
   "cell_type": "code",
   "execution_count": 3,
   "metadata": {},
   "outputs": [
    {
     "data": {
      "text/plain": [
       "Index(['Unnamed: 0', 'SMILES', 'Compound ID'], dtype='object')"
      ]
     },
     "execution_count": 3,
     "metadata": {},
     "output_type": "execute_result"
    }
   ],
   "source": [
    "df.columns"
   ]
  },
  {
   "cell_type": "code",
   "execution_count": 4,
   "metadata": {},
   "outputs": [
    {
     "data": {
      "text/plain": [
       "True"
      ]
     },
     "execution_count": 4,
     "metadata": {},
     "output_type": "execute_result"
    }
   ],
   "source": [
    "os.path.isfile('./MoleculeLibrary.csv')"
   ]
  },
  {
   "cell_type": "code",
   "execution_count": 5,
   "metadata": {},
   "outputs": [
    {
     "data": {
      "text/html": [
       "<div>\n",
       "<style scoped>\n",
       "    .dataframe tbody tr th:only-of-type {\n",
       "        vertical-align: middle;\n",
       "    }\n",
       "\n",
       "    .dataframe tbody tr th {\n",
       "        vertical-align: top;\n",
       "    }\n",
       "\n",
       "    .dataframe thead th {\n",
       "        text-align: right;\n",
       "    }\n",
       "</style>\n",
       "<table border=\"1\" class=\"dataframe\">\n",
       "  <thead>\n",
       "    <tr style=\"text-align: right;\">\n",
       "      <th></th>\n",
       "      <th>Unnamed: 0</th>\n",
       "      <th>SMILES</th>\n",
       "      <th>Compound ID</th>\n",
       "    </tr>\n",
       "  </thead>\n",
       "  <tbody>\n",
       "    <tr>\n",
       "      <th>56</th>\n",
       "      <td>56</td>\n",
       "      <td>CC1(O)CCC2C3CCC4=CC(=O)CCC4(C)C3CCC21C</td>\n",
       "      <td>17a-Methyltestosterone</td>\n",
       "    </tr>\n",
       "    <tr>\n",
       "      <th>57</th>\n",
       "      <td>57</td>\n",
       "      <td>Nc2cccc3nc1ccccc1cc23</td>\n",
       "      <td>1-aminoacridine</td>\n",
       "    </tr>\n",
       "    <tr>\n",
       "      <th>58</th>\n",
       "      <td>58</td>\n",
       "      <td>CC(C)CBr</td>\n",
       "      <td>1-Bromo-2-methylpropane</td>\n",
       "    </tr>\n",
       "    <tr>\n",
       "      <th>59</th>\n",
       "      <td>59</td>\n",
       "      <td>CCCCBr</td>\n",
       "      <td>1-Bromobutane</td>\n",
       "    </tr>\n",
       "    <tr>\n",
       "      <th>60</th>\n",
       "      <td>60</td>\n",
       "      <td>CCCCCCCBr</td>\n",
       "      <td>1-Bromoheptane</td>\n",
       "    </tr>\n",
       "    <tr>\n",
       "      <th>61</th>\n",
       "      <td>61</td>\n",
       "      <td>CCCCCCBr</td>\n",
       "      <td>1-Bromohexane</td>\n",
       "    </tr>\n",
       "    <tr>\n",
       "      <th>62</th>\n",
       "      <td>62</td>\n",
       "      <td>Brc1cccc2ccccc12</td>\n",
       "      <td>1-Bromonapthalene</td>\n",
       "    </tr>\n",
       "    <tr>\n",
       "      <th>63</th>\n",
       "      <td>63</td>\n",
       "      <td>CCCCCCCCBr</td>\n",
       "      <td>1-Bromooctane</td>\n",
       "    </tr>\n",
       "    <tr>\n",
       "      <th>64</th>\n",
       "      <td>64</td>\n",
       "      <td>CCCCCBr</td>\n",
       "      <td>1-Bromopentane</td>\n",
       "    </tr>\n",
       "    <tr>\n",
       "      <th>65</th>\n",
       "      <td>65</td>\n",
       "      <td>CCCBr</td>\n",
       "      <td>1-Bromopropane</td>\n",
       "    </tr>\n",
       "    <tr>\n",
       "      <th>66</th>\n",
       "      <td>66</td>\n",
       "      <td>CCCCO</td>\n",
       "      <td>1-Butanol</td>\n",
       "    </tr>\n",
       "    <tr>\n",
       "      <th>67</th>\n",
       "      <td>67</td>\n",
       "      <td>CCC=C</td>\n",
       "      <td>1-Butene</td>\n",
       "    </tr>\n",
       "    <tr>\n",
       "      <th>68</th>\n",
       "      <td>68</td>\n",
       "      <td>CCC#C</td>\n",
       "      <td>1-Butyne</td>\n",
       "    </tr>\n",
       "    <tr>\n",
       "      <th>69</th>\n",
       "      <td>69</td>\n",
       "      <td>ClCCBr</td>\n",
       "      <td>1-Chloro-2-bromoethane</td>\n",
       "    </tr>\n",
       "    <tr>\n",
       "      <th>70</th>\n",
       "      <td>70</td>\n",
       "      <td>ClCC(C)C</td>\n",
       "      <td>1-Chloro-2-methylpropane</td>\n",
       "    </tr>\n",
       "    <tr>\n",
       "      <th>71</th>\n",
       "      <td>71</td>\n",
       "      <td>CCCCCl</td>\n",
       "      <td>1-Chlorobutane</td>\n",
       "    </tr>\n",
       "    <tr>\n",
       "      <th>72</th>\n",
       "      <td>72</td>\n",
       "      <td>CCCCCCCCl</td>\n",
       "      <td>1-Chloroheptane</td>\n",
       "    </tr>\n",
       "    <tr>\n",
       "      <th>73</th>\n",
       "      <td>73</td>\n",
       "      <td>CCCCCCCl</td>\n",
       "      <td>1-Chlorohexane</td>\n",
       "    </tr>\n",
       "    <tr>\n",
       "      <th>74</th>\n",
       "      <td>74</td>\n",
       "      <td>Clc1cccc2ccccc12</td>\n",
       "      <td>1-Chloronapthalene</td>\n",
       "    </tr>\n",
       "    <tr>\n",
       "      <th>75</th>\n",
       "      <td>75</td>\n",
       "      <td>CCCCCCl</td>\n",
       "      <td>1-Chloropentane</td>\n",
       "    </tr>\n",
       "    <tr>\n",
       "      <th>76</th>\n",
       "      <td>76</td>\n",
       "      <td>CCCCl</td>\n",
       "      <td>1-Chloropropane</td>\n",
       "    </tr>\n",
       "    <tr>\n",
       "      <th>77</th>\n",
       "      <td>77</td>\n",
       "      <td>CCCCCCCCCCO</td>\n",
       "      <td>1-Decanol</td>\n",
       "    </tr>\n",
       "    <tr>\n",
       "      <th>78</th>\n",
       "      <td>78</td>\n",
       "      <td>CCCCCCCCC=C</td>\n",
       "      <td>1-Decene</td>\n",
       "    </tr>\n",
       "    <tr>\n",
       "      <th>79</th>\n",
       "      <td>79</td>\n",
       "      <td>CCCCCCCCCCCCO</td>\n",
       "      <td>1-Dodecanol</td>\n",
       "    </tr>\n",
       "    <tr>\n",
       "      <th>80</th>\n",
       "      <td>80</td>\n",
       "      <td>CCc1cccc2ccccc12</td>\n",
       "      <td>1-Ethylnaphthalene</td>\n",
       "    </tr>\n",
       "    <tr>\n",
       "      <th>81</th>\n",
       "      <td>81</td>\n",
       "      <td>CCCCCCCO</td>\n",
       "      <td>1-Heptanol</td>\n",
       "    </tr>\n",
       "    <tr>\n",
       "      <th>82</th>\n",
       "      <td>82</td>\n",
       "      <td>CCCCCC=C</td>\n",
       "      <td>1-Heptene</td>\n",
       "    </tr>\n",
       "    <tr>\n",
       "      <th>83</th>\n",
       "      <td>83</td>\n",
       "      <td>CCCCCC#C</td>\n",
       "      <td>1-Heptyne</td>\n",
       "    </tr>\n",
       "    <tr>\n",
       "      <th>84</th>\n",
       "      <td>84</td>\n",
       "      <td>CCCCCCCCCCCCCCCCO</td>\n",
       "      <td>1-Hexadecanol</td>\n",
       "    </tr>\n",
       "    <tr>\n",
       "      <th>85</th>\n",
       "      <td>85</td>\n",
       "      <td>CCCCCCO</td>\n",
       "      <td>1-Hexanol</td>\n",
       "    </tr>\n",
       "    <tr>\n",
       "      <th>86</th>\n",
       "      <td>86</td>\n",
       "      <td>CCCCC=C</td>\n",
       "      <td>1-Hexene</td>\n",
       "    </tr>\n",
       "    <tr>\n",
       "      <th>87</th>\n",
       "      <td>87</td>\n",
       "      <td>CCCC(O)C=C</td>\n",
       "      <td>1-Hexene-3-ol</td>\n",
       "    </tr>\n",
       "    <tr>\n",
       "      <th>88</th>\n",
       "      <td>88</td>\n",
       "      <td>CCCCC#C</td>\n",
       "      <td>1-Hexyne</td>\n",
       "    </tr>\n",
       "    <tr>\n",
       "      <th>89</th>\n",
       "      <td>89</td>\n",
       "      <td>CCCCI</td>\n",
       "      <td>1-Iodobutane</td>\n",
       "    </tr>\n",
       "    <tr>\n",
       "      <th>90</th>\n",
       "      <td>90</td>\n",
       "      <td>CCCCCCCI</td>\n",
       "      <td>1-Iodoheptane</td>\n",
       "    </tr>\n",
       "    <tr>\n",
       "      <th>91</th>\n",
       "      <td>91</td>\n",
       "      <td>Ic1cccc2ccccc12</td>\n",
       "      <td>1-Iodonapthalene</td>\n",
       "    </tr>\n",
       "    <tr>\n",
       "      <th>92</th>\n",
       "      <td>92</td>\n",
       "      <td>CCCI</td>\n",
       "      <td>1-Iodopropane</td>\n",
       "    </tr>\n",
       "    <tr>\n",
       "      <th>93</th>\n",
       "      <td>93</td>\n",
       "      <td>CC1=CCCCC1</td>\n",
       "      <td>1-Methylcyclohexene</td>\n",
       "    </tr>\n",
       "    <tr>\n",
       "      <th>94</th>\n",
       "      <td>94</td>\n",
       "      <td>Cc1cccc2c1Cc3ccccc32</td>\n",
       "      <td>1-Methylfluorene</td>\n",
       "    </tr>\n",
       "    <tr>\n",
       "      <th>95</th>\n",
       "      <td>95</td>\n",
       "      <td>Cc1cccc2ccccc12</td>\n",
       "      <td>1-Methylnaphthalene</td>\n",
       "    </tr>\n",
       "    <tr>\n",
       "      <th>96</th>\n",
       "      <td>96</td>\n",
       "      <td>Cc1cccc2c1ccc3ccccc32</td>\n",
       "      <td>1-Methylphenanthrene</td>\n",
       "    </tr>\n",
       "    <tr>\n",
       "      <th>97</th>\n",
       "      <td>97</td>\n",
       "      <td>Cn1ccc(=O)[nH]c1=O</td>\n",
       "      <td>1-methyluracil</td>\n",
       "    </tr>\n",
       "    <tr>\n",
       "      <th>98</th>\n",
       "      <td>98</td>\n",
       "      <td>Oc1cccc2ccccc12</td>\n",
       "      <td>1-Napthol</td>\n",
       "    </tr>\n",
       "    <tr>\n",
       "      <th>99</th>\n",
       "      <td>99</td>\n",
       "      <td>Nc1cccc2ccccc12</td>\n",
       "      <td>1-Napthylamine</td>\n",
       "    </tr>\n",
       "    <tr>\n",
       "      <th>100</th>\n",
       "      <td>100</td>\n",
       "      <td>O=N(=O)c1cccc2ccccc12</td>\n",
       "      <td>1-Nitronapthalene</td>\n",
       "    </tr>\n",
       "    <tr>\n",
       "      <th>101</th>\n",
       "      <td>101</td>\n",
       "      <td>CCCN(=O)=O</td>\n",
       "      <td>1-Nitropropane</td>\n",
       "    </tr>\n",
       "    <tr>\n",
       "      <th>102</th>\n",
       "      <td>102</td>\n",
       "      <td>CCCCCCCCCO</td>\n",
       "      <td>1-Nonanol</td>\n",
       "    </tr>\n",
       "    <tr>\n",
       "      <th>103</th>\n",
       "      <td>103</td>\n",
       "      <td>CCCCCCCC=C</td>\n",
       "      <td>1-Nonene</td>\n",
       "    </tr>\n",
       "    <tr>\n",
       "      <th>104</th>\n",
       "      <td>104</td>\n",
       "      <td>CCCCCCCC#C</td>\n",
       "      <td>1-Nonyne</td>\n",
       "    </tr>\n",
       "    <tr>\n",
       "      <th>105</th>\n",
       "      <td>105</td>\n",
       "      <td>CCCCCCCCCCCCCCCCCCO</td>\n",
       "      <td>1-Octadecanol</td>\n",
       "    </tr>\n",
       "    <tr>\n",
       "      <th>106</th>\n",
       "      <td>106</td>\n",
       "      <td>CCCCCCCCO</td>\n",
       "      <td>1-Octanol</td>\n",
       "    </tr>\n",
       "    <tr>\n",
       "      <th>107</th>\n",
       "      <td>107</td>\n",
       "      <td>CCCCCCC=C</td>\n",
       "      <td>1-Octene</td>\n",
       "    </tr>\n",
       "    <tr>\n",
       "      <th>108</th>\n",
       "      <td>108</td>\n",
       "      <td>CCCCCCC#C</td>\n",
       "      <td>1-Octyne</td>\n",
       "    </tr>\n",
       "    <tr>\n",
       "      <th>109</th>\n",
       "      <td>109</td>\n",
       "      <td>CCCCCCCCCCCCCCCO</td>\n",
       "      <td>1-Pentadecanol</td>\n",
       "    </tr>\n",
       "    <tr>\n",
       "      <th>110</th>\n",
       "      <td>110</td>\n",
       "      <td>CCCCCO</td>\n",
       "      <td>1-Pentanol</td>\n",
       "    </tr>\n",
       "    <tr>\n",
       "      <th>111</th>\n",
       "      <td>111</td>\n",
       "      <td>CCCC=C</td>\n",
       "      <td>1-Pentene</td>\n",
       "    </tr>\n",
       "    <tr>\n",
       "      <th>112</th>\n",
       "      <td>112</td>\n",
       "      <td>CCCC#C</td>\n",
       "      <td>1-Pentyne</td>\n",
       "    </tr>\n",
       "  </tbody>\n",
       "</table>\n",
       "</div>"
      ],
      "text/plain": [
       "     Unnamed: 0                                  SMILES  \\\n",
       "56           56  CC1(O)CCC2C3CCC4=CC(=O)CCC4(C)C3CCC21C   \n",
       "57           57                  Nc2cccc3nc1ccccc1cc23    \n",
       "58           58                                CC(C)CBr   \n",
       "59           59                                  CCCCBr   \n",
       "60           60                               CCCCCCCBr   \n",
       "61           61                                CCCCCCBr   \n",
       "62           62                        Brc1cccc2ccccc12   \n",
       "63           63                              CCCCCCCCBr   \n",
       "64           64                                 CCCCCBr   \n",
       "65           65                                   CCCBr   \n",
       "66           66                                   CCCCO   \n",
       "67           67                                   CCC=C   \n",
       "68           68                                   CCC#C   \n",
       "69           69                                  ClCCBr   \n",
       "70           70                                ClCC(C)C   \n",
       "71           71                                  CCCCCl   \n",
       "72           72                               CCCCCCCCl   \n",
       "73           73                                CCCCCCCl   \n",
       "74           74                        Clc1cccc2ccccc12   \n",
       "75           75                                 CCCCCCl   \n",
       "76           76                                   CCCCl   \n",
       "77           77                             CCCCCCCCCCO   \n",
       "78           78                             CCCCCCCCC=C   \n",
       "79           79                           CCCCCCCCCCCCO   \n",
       "80           80                        CCc1cccc2ccccc12   \n",
       "81           81                                CCCCCCCO   \n",
       "82           82                                CCCCCC=C   \n",
       "83           83                                CCCCCC#C   \n",
       "84           84                       CCCCCCCCCCCCCCCCO   \n",
       "85           85                                 CCCCCCO   \n",
       "86           86                                 CCCCC=C   \n",
       "87           87                              CCCC(O)C=C   \n",
       "88           88                                 CCCCC#C   \n",
       "89           89                                   CCCCI   \n",
       "90           90                                CCCCCCCI   \n",
       "91           91                         Ic1cccc2ccccc12   \n",
       "92           92                                    CCCI   \n",
       "93           93                              CC1=CCCCC1   \n",
       "94           94                    Cc1cccc2c1Cc3ccccc32   \n",
       "95           95                         Cc1cccc2ccccc12   \n",
       "96           96                   Cc1cccc2c1ccc3ccccc32   \n",
       "97           97                      Cn1ccc(=O)[nH]c1=O   \n",
       "98           98                         Oc1cccc2ccccc12   \n",
       "99           99                         Nc1cccc2ccccc12   \n",
       "100         100                   O=N(=O)c1cccc2ccccc12   \n",
       "101         101                              CCCN(=O)=O   \n",
       "102         102                              CCCCCCCCCO   \n",
       "103         103                              CCCCCCCC=C   \n",
       "104         104                              CCCCCCCC#C   \n",
       "105         105                     CCCCCCCCCCCCCCCCCCO   \n",
       "106         106                               CCCCCCCCO   \n",
       "107         107                               CCCCCCC=C   \n",
       "108         108                               CCCCCCC#C   \n",
       "109         109                        CCCCCCCCCCCCCCCO   \n",
       "110         110                                  CCCCCO   \n",
       "111         111                                  CCCC=C   \n",
       "112         112                                  CCCC#C   \n",
       "\n",
       "                  Compound ID  \n",
       "56     17a-Methyltestosterone  \n",
       "57            1-aminoacridine  \n",
       "58    1-Bromo-2-methylpropane  \n",
       "59              1-Bromobutane  \n",
       "60             1-Bromoheptane  \n",
       "61              1-Bromohexane  \n",
       "62          1-Bromonapthalene  \n",
       "63              1-Bromooctane  \n",
       "64             1-Bromopentane  \n",
       "65             1-Bromopropane  \n",
       "66                  1-Butanol  \n",
       "67                   1-Butene  \n",
       "68                   1-Butyne  \n",
       "69     1-Chloro-2-bromoethane  \n",
       "70   1-Chloro-2-methylpropane  \n",
       "71             1-Chlorobutane  \n",
       "72            1-Chloroheptane  \n",
       "73             1-Chlorohexane  \n",
       "74         1-Chloronapthalene  \n",
       "75            1-Chloropentane  \n",
       "76            1-Chloropropane  \n",
       "77                  1-Decanol  \n",
       "78                   1-Decene  \n",
       "79                1-Dodecanol  \n",
       "80        1-Ethylnaphthalene   \n",
       "81                 1-Heptanol  \n",
       "82                  1-Heptene  \n",
       "83                  1-Heptyne  \n",
       "84              1-Hexadecanol  \n",
       "85                  1-Hexanol  \n",
       "86                   1-Hexene  \n",
       "87              1-Hexene-3-ol  \n",
       "88                  1-Hexyne   \n",
       "89               1-Iodobutane  \n",
       "90              1-Iodoheptane  \n",
       "91           1-Iodonapthalene  \n",
       "92              1-Iodopropane  \n",
       "93       1-Methylcyclohexene   \n",
       "94           1-Methylfluorene  \n",
       "95        1-Methylnaphthalene  \n",
       "96       1-Methylphenanthrene  \n",
       "97             1-methyluracil  \n",
       "98                  1-Napthol  \n",
       "99             1-Napthylamine  \n",
       "100         1-Nitronapthalene  \n",
       "101            1-Nitropropane  \n",
       "102                 1-Nonanol  \n",
       "103                 1-Nonene   \n",
       "104                 1-Nonyne   \n",
       "105             1-Octadecanol  \n",
       "106                 1-Octanol  \n",
       "107                 1-Octene   \n",
       "108                 1-Octyne   \n",
       "109            1-Pentadecanol  \n",
       "110                1-Pentanol  \n",
       "111                1-Pentene   \n",
       "112                 1-Pentyne  "
      ]
     },
     "execution_count": 5,
     "metadata": {},
     "output_type": "execute_result"
    }
   ],
   "source": [
    "df[56:113]"
   ]
  },
  {
   "cell_type": "markdown",
   "metadata": {},
   "source": [
    "## possible bonding \n",
    "    =C\n",
    "    -C\n",
    "    [C]\n",
    "    (C)\n",
    "    "
   ]
  },
  {
   "cell_type": "markdown",
   "metadata": {},
   "source": [
    "###  Useful methods \n",
    "\n",
    " m.GetAtomWithIdx(0).GetSymbol()\n",
    "    'C'\n",
    "    \n",
    " m.GetAtomWithIdx(0).GetExplicitValence()\n",
    "    2\n",
    "    \n",
    " m.GetBondWithIdx(0).GetBeginAtomIdx()\n",
    "    0\n",
    "    \n",
    " m.GetBondWithIdx(0).GetEndAtomIdx()\n",
    "    1\n",
    "    \n",
    " m.GetBondBetweenAtoms(0,1).GetBondType()\n",
    "rdkit.Chem.rdchem.BondType.SINGLE"
   ]
  },
  {
   "cell_type": "markdown",
   "metadata": {},
   "source": [
    "## Molecule Class"
   ]
  },
  {
   "cell_type": "markdown",
   "metadata": {},
   "source": [
    "## Comparing molecules to others\n",
    "\n",
    "\n",
    "Notes:\n",
    "    - we should use the comparision for the history as well as to the goal.\n",
    "    - There must be a limit of history restores before it reverts twice\n",
    "    - bad actions must somehow be penalized\n",
    "    - use while loops to test\n",
    "    - explore adding bonds\n",
    "    - explore processing the goal\n",
    "    \n",
    "    \n",
    "    \n",
    "Exploring functional groups\n",
    "    - (c1ccccc1)\n",
    "    - 'n1ccc2c1CCCC2'\n",
    "        \n",
    "Examples\n",
    "    -Brc1ccc(Br)cc1\n",
    "    "
   ]
  },
  {
   "cell_type": "code",
   "execution_count": 345,
   "metadata": {},
   "outputs": [],
   "source": [
    "# Set mol\n",
    "moltest = Mol('C1CC1F', 'CCCC' )"
   ]
  },
  {
   "cell_type": "code",
   "execution_count": 346,
   "metadata": {},
   "outputs": [
    {
     "name": "stdout",
     "output_type": "stream",
     "text": [
      "917    p-Bromoacetanilide\n",
      "Name: Compound ID, dtype: object\n"
     ]
    }
   ],
   "source": [
    "# get Random Goal and initial molecule\n",
    "mol = moltest.GetRandomGoal()\n",
    "print(mol)"
   ]
  },
  {
   "cell_type": "code",
   "execution_count": 347,
   "metadata": {},
   "outputs": [
    {
     "name": "stdout",
     "output_type": "stream",
     "text": [
      "New goal:         CC(=O)Nc1ccc(Br)cc1\n",
      "New initial Mol:  C1CC1F\n"
     ]
    }
   ],
   "source": [
    "print(\"New goal:         \" + moltest.goal + \"\\n\" + \"New initial Mol:  \" + moltest.mol)"
   ]
  },
  {
   "cell_type": "code",
   "execution_count": 348,
   "metadata": {},
   "outputs": [
    {
     "name": "stdout",
     "output_type": "stream",
     "text": [
      "['O', 'N', 'Br', 'C']\n",
      "[1.0, 2.0, 1.5]\n"
     ]
    }
   ],
   "source": [
    "# display current atom options \n",
    "atoms = moltest.get_Atoms()\n",
    "print(atoms)\n",
    "bonds = moltest.get_Bonds()\n",
    "print(bonds)"
   ]
  },
  {
   "cell_type": "code",
   "execution_count": 349,
   "metadata": {},
   "outputs": [
    {
     "name": "stdout",
     "output_type": "stream",
     "text": [
      "((0, 1, 2),)\n"
     ]
    }
   ],
   "source": [
    "mol = moltest.GetMol()\n",
    "ri = mol.GetRingInfo()\n",
    "print(ri.AtomRings())"
   ]
  },
  {
   "cell_type": "code",
   "execution_count": 350,
   "metadata": {},
   "outputs": [
    {
     "name": "stdout",
     "output_type": "stream",
     "text": [
      "Molecule is 2.2857 % similar to the desired state\n"
     ]
    },
    {
     "data": {
      "image/png": "[encoded data removed]",
      "text/plain": [
       "<rdkit.Chem.rdchem.Mol at 0x7f997dbc6ee0>"
      ]
     },
     "execution_count": 350,
     "metadata": {},
     "output_type": "execute_result"
    }
   ],
   "source": [
    "print(\"Molecule is {} % similar to the desired state\".format( moltest.GetSimilarity()))\n",
    "moltest.GetMol()"
   ]
  },
  {
   "cell_type": "code",
   "execution_count": 303,
   "metadata": {},
   "outputs": [],
   "source": [
    "elements = Chem.GetPeriodicTable()\n",
    "def GetValency(element):\n",
    "    return list(elements.GetValenceList(element))[0]"
   ]
  },
  {
   "cell_type": "code",
   "execution_count": 15,
   "metadata": {},
   "outputs": [
    {
     "data": {
      "text/plain": [
       "2"
      ]
     },
     "execution_count": 15,
     "metadata": {},
     "output_type": "execute_result"
    }
   ],
   "source": [
    "GetValency(\"S\")"
   ]
  },
  {
   "cell_type": "code",
   "execution_count": 49,
   "metadata": {},
   "outputs": [
    {
     "data": {
      "image/png": "[encoded data removed]",
      "text/plain": [
       "<PIL.PngImagePlugin.PngImageFile image mode=RGB size=1000x200 at 0x7FE73FADCD90>"
      ]
     },
     "execution_count": 49,
     "metadata": {},
     "output_type": "execute_result"
    }
   ],
   "source": [
    "ethanol = Chem.MolFromSmiles('CCO')\n",
    "isopropanol = Chem.MolFromSmiles('CC(C)O')\n",
    "phenol = Chem.MolFromSmiles('c1cccc(O)c1')\n",
    "t_butanol = Chem.MolFromSmiles('C(C)(C)(C)O')\n",
    "glycerol = Chem.MolFromSmiles('OCC(O)CO')\n",
    "\n",
    "alcohols = [ethanol, isopropanol, phenol, t_butanol, glycerol]\n",
    "\n",
    "Draw.MolsToGridImage(alcohols, molsPerRow=5)\n"
   ]
  },
  {
   "cell_type": "code",
   "execution_count": null,
   "metadata": {},
   "outputs": [],
   "source": []
  }
 ],
 "metadata": {
  "kernelspec": {
   "display_name": "Python 3",
   "language": "python",
   "name": "python3"
  },
  "language_info": {
   "codemirror_mode": {
    "name": "ipython",
    "version": 3
   },
   "file_extension": ".py",
   "mimetype": "text/x-python",
   "name": "python",
   "nbconvert_exporter": "python",
   "pygments_lexer": "ipython3",
   "version": "3.7.6"
  }
 },
 "nbformat": 4,
 "nbformat_minor": 4
}
